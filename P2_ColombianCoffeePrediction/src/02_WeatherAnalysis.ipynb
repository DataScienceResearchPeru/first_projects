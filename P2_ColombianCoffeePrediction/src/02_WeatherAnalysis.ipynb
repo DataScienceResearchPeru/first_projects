{
 "cells": [
  {
   "cell_type": "markdown",
   "metadata": {},
   "source": [
    "# Colombian Coffee Production Prediction\n",
    "\n",
    "## Weather Analysis\n",
    "\n",
    "This sript will retrieve information from the .csv file saved on step 0 ([Loading Data](00_LoadingData.ipynb)) and perform a partial analysis using only weather and time related variables.\n",
    "\n",
    "If step 0 ([Loading Data](00_LoadingData.ipynb)) has already been executed **once** it will not be necessary to execute it again.  For analysis purposes, it's also assumed tht step 1 ([EDA](01_EDA.ipynb)) has also been executed for a better understanding"
   ]
  },
  {
   "cell_type": "code",
   "execution_count": 20,
   "metadata": {},
   "outputs": [],
   "source": [
    "import pandas as pd\n",
    "import numpy as np\n",
    "\n",
    "import statsmodels.api as sm\n",
    "import matplotlib.pyplot as plt\n",
    "\n",
    "from sklearn import linear_model\n",
    "from sklearn import model_selection"
   ]
  },
  {
   "cell_type": "markdown",
   "metadata": {},
   "source": [
    "**Load Cleaned Data**"
   ]
  },
  {
   "cell_type": "code",
   "execution_count": 21,
   "metadata": {},
   "outputs": [
    {
     "data": {
      "text/plain": [
       "98"
      ]
     },
     "execution_count": 21,
     "metadata": {},
     "output_type": "execute_result"
    }
   ],
   "source": [
    "pd.set_option('display.max_rows',50)\n",
    "coffee_df=pd.read_csv('../csv/FINAL_coffee_mth.csv', index_col=0)\n",
    "len(coffee_df)"
   ]
  },
  {
   "cell_type": "markdown",
   "metadata": {},
   "source": [
    "### First Analysis (Weather *without* month information) "
   ]
  },
  {
   "cell_type": "code",
   "execution_count": 4,
   "metadata": {
    "scrolled": true
   },
   "outputs": [
    {
     "data": {
      "text/plain": [
       "Index(['Produccion', 'year', 'month', 'avg_precip', 'avg_tmp', 'avg_wind',\n",
       "       'dew_point', 'avg_humidity', 'colombia_price', 'brasil_price',\n",
       "       'others_price', 'vol_export', 'trm', 'Intercept', 'month[T.January]',\n",
       "       'month[T.February]', 'month[T.March]', 'month[T.May]', 'month[T.June]',\n",
       "       'month[T.July]', 'month[T.August]', 'month[T.September]',\n",
       "       'month[T.October]', 'month[T.November]', 'month[T.December]'],\n",
       "      dtype='object')"
      ]
     },
     "execution_count": 4,
     "metadata": {},
     "output_type": "execute_result"
    }
   ],
   "source": [
    "coffee_df.columns"
   ]
  },
  {
   "cell_type": "markdown",
   "metadata": {},
   "source": [
    "**Separate Dependent (Produccion) from Independent Variables (Only Weather)**"
   ]
  },
  {
   "cell_type": "code",
   "execution_count": 6,
   "metadata": {},
   "outputs": [
    {
     "data": {
      "text/html": [
       "<div>\n",
       "<style scoped>\n",
       "    .dataframe tbody tr th:only-of-type {\n",
       "        vertical-align: middle;\n",
       "    }\n",
       "\n",
       "    .dataframe tbody tr th {\n",
       "        vertical-align: top;\n",
       "    }\n",
       "\n",
       "    .dataframe thead th {\n",
       "        text-align: right;\n",
       "    }\n",
       "</style>\n",
       "<table border=\"1\" class=\"dataframe\">\n",
       "  <thead>\n",
       "    <tr style=\"text-align: right;\">\n",
       "      <th></th>\n",
       "      <th>avg_precip</th>\n",
       "      <th>avg_tmp</th>\n",
       "      <th>avg_wind</th>\n",
       "      <th>dew_point</th>\n",
       "      <th>avg_humidity</th>\n",
       "      <th>Intercept</th>\n",
       "    </tr>\n",
       "  </thead>\n",
       "  <tbody>\n",
       "    <tr>\n",
       "      <th>0</th>\n",
       "      <td>0.0</td>\n",
       "      <td>73</td>\n",
       "      <td>1</td>\n",
       "      <td>64</td>\n",
       "      <td>69.625000</td>\n",
       "      <td>1.0</td>\n",
       "    </tr>\n",
       "    <tr>\n",
       "      <th>1</th>\n",
       "      <td>0.0</td>\n",
       "      <td>76</td>\n",
       "      <td>1</td>\n",
       "      <td>64</td>\n",
       "      <td>70.153846</td>\n",
       "      <td>1.0</td>\n",
       "    </tr>\n",
       "    <tr>\n",
       "      <th>2</th>\n",
       "      <td>0.0</td>\n",
       "      <td>75</td>\n",
       "      <td>1</td>\n",
       "      <td>65</td>\n",
       "      <td>68.500000</td>\n",
       "      <td>1.0</td>\n",
       "    </tr>\n",
       "    <tr>\n",
       "      <th>3</th>\n",
       "      <td>0.0</td>\n",
       "      <td>73</td>\n",
       "      <td>1</td>\n",
       "      <td>66</td>\n",
       "      <td>78.375000</td>\n",
       "      <td>1.0</td>\n",
       "    </tr>\n",
       "    <tr>\n",
       "      <th>4</th>\n",
       "      <td>0.0</td>\n",
       "      <td>74</td>\n",
       "      <td>1</td>\n",
       "      <td>66</td>\n",
       "      <td>76.703704</td>\n",
       "      <td>1.0</td>\n",
       "    </tr>\n",
       "  </tbody>\n",
       "</table>\n",
       "</div>"
      ],
      "text/plain": [
       "   avg_precip  avg_tmp  avg_wind  dew_point  avg_humidity  Intercept\n",
       "0         0.0       73         1         64     69.625000        1.0\n",
       "1         0.0       76         1         64     70.153846        1.0\n",
       "2         0.0       75         1         65     68.500000        1.0\n",
       "3         0.0       73         1         66     78.375000        1.0\n",
       "4         0.0       74         1         66     76.703704        1.0"
      ]
     },
     "execution_count": 6,
     "metadata": {},
     "output_type": "execute_result"
    }
   ],
   "source": [
    "#Separate Dependent (Produccion) from Independent Variables (Only Weather) - Include Intercept!\n",
    "y = coffee_df['Produccion']\n",
    "x = coffee_df[['avg_precip', 'avg_tmp', 'avg_wind',\n",
    "       'dew_point', 'avg_humidity','Intercept']]\n",
    "x.head()"
   ]
  },
  {
   "cell_type": "markdown",
   "metadata": {},
   "source": [
    "**Split data into train (70%) and test (30%) sets, generate a first model**"
   ]
  },
  {
   "cell_type": "code",
   "execution_count": 9,
   "metadata": {},
   "outputs": [
    {
     "data": {
      "text/html": [
       "<table class=\"simpletable\">\n",
       "<caption>OLS Regression Results</caption>\n",
       "<tr>\n",
       "  <th>Dep. Variable:</th>       <td>Produccion</td>    <th>  R-squared:         </th> <td>   0.149</td>\n",
       "</tr>\n",
       "<tr>\n",
       "  <th>Model:</th>                   <td>OLS</td>       <th>  Adj. R-squared:    </th> <td>   0.080</td>\n",
       "</tr>\n",
       "<tr>\n",
       "  <th>Method:</th>             <td>Least Squares</td>  <th>  F-statistic:       </th> <td>   2.166</td>\n",
       "</tr>\n",
       "<tr>\n",
       "  <th>Date:</th>             <td>Sun, 29 Apr 2018</td> <th>  Prob (F-statistic):</th>  <td>0.0693</td> \n",
       "</tr>\n",
       "<tr>\n",
       "  <th>Time:</th>                 <td>12:57:10</td>     <th>  Log-Likelihood:    </th> <td> -470.95</td>\n",
       "</tr>\n",
       "<tr>\n",
       "  <th>No. Observations:</th>      <td>    68</td>      <th>  AIC:               </th> <td>   953.9</td>\n",
       "</tr>\n",
       "<tr>\n",
       "  <th>Df Residuals:</th>          <td>    62</td>      <th>  BIC:               </th> <td>   967.2</td>\n",
       "</tr>\n",
       "<tr>\n",
       "  <th>Df Model:</th>              <td>     5</td>      <th>                     </th>     <td> </td>   \n",
       "</tr>\n",
       "<tr>\n",
       "  <th>Covariance Type:</th>      <td>nonrobust</td>    <th>                     </th>     <td> </td>   \n",
       "</tr>\n",
       "</table>\n",
       "<table class=\"simpletable\">\n",
       "<tr>\n",
       "        <td></td>          <th>coef</th>     <th>std err</th>      <th>t</th>      <th>P>|t|</th>  <th>[0.025</th>    <th>0.975]</th>  \n",
       "</tr>\n",
       "<tr>\n",
       "  <th>avg_precip</th>   <td>  862.3188</td> <td>  559.620</td> <td>    1.541</td> <td> 0.128</td> <td> -256.345</td> <td> 1980.983</td>\n",
       "</tr>\n",
       "<tr>\n",
       "  <th>avg_tmp</th>      <td>  -35.7624</td> <td>   52.471</td> <td>   -0.682</td> <td> 0.498</td> <td> -140.651</td> <td>   69.126</td>\n",
       "</tr>\n",
       "<tr>\n",
       "  <th>avg_wind</th>     <td>  112.2885</td> <td>   54.855</td> <td>    2.047</td> <td> 0.045</td> <td>    2.634</td> <td>  221.943</td>\n",
       "</tr>\n",
       "<tr>\n",
       "  <th>dew_point</th>    <td>   52.1720</td> <td>   63.235</td> <td>    0.825</td> <td> 0.413</td> <td>  -74.232</td> <td>  178.576</td>\n",
       "</tr>\n",
       "<tr>\n",
       "  <th>avg_humidity</th> <td>  -12.1280</td> <td>   17.816</td> <td>   -0.681</td> <td> 0.499</td> <td>  -47.741</td> <td>   23.485</td>\n",
       "</tr>\n",
       "<tr>\n",
       "  <th>Intercept</th>    <td>  859.7245</td> <td> 3086.128</td> <td>    0.279</td> <td> 0.781</td> <td>-5309.357</td> <td> 7028.805</td>\n",
       "</tr>\n",
       "</table>\n",
       "<table class=\"simpletable\">\n",
       "<tr>\n",
       "  <th>Omnibus:</th>       <td> 0.593</td> <th>  Durbin-Watson:     </th> <td>   2.012</td>\n",
       "</tr>\n",
       "<tr>\n",
       "  <th>Prob(Omnibus):</th> <td> 0.744</td> <th>  Jarque-Bera (JB):  </th> <td>   0.713</td>\n",
       "</tr>\n",
       "<tr>\n",
       "  <th>Skew:</th>          <td> 0.194</td> <th>  Prob(JB):          </th> <td>   0.700</td>\n",
       "</tr>\n",
       "<tr>\n",
       "  <th>Kurtosis:</th>      <td> 2.681</td> <th>  Cond. No.          </th> <td>1.22e+04</td>\n",
       "</tr>\n",
       "</table>"
      ],
      "text/plain": [
       "<class 'statsmodels.iolib.summary.Summary'>\n",
       "\"\"\"\n",
       "                            OLS Regression Results                            \n",
       "==============================================================================\n",
       "Dep. Variable:             Produccion   R-squared:                       0.149\n",
       "Model:                            OLS   Adj. R-squared:                  0.080\n",
       "Method:                 Least Squares   F-statistic:                     2.166\n",
       "Date:                Sun, 29 Apr 2018   Prob (F-statistic):             0.0693\n",
       "Time:                        12:57:10   Log-Likelihood:                -470.95\n",
       "No. Observations:                  68   AIC:                             953.9\n",
       "Df Residuals:                      62   BIC:                             967.2\n",
       "Df Model:                           5                                         \n",
       "Covariance Type:            nonrobust                                         \n",
       "================================================================================\n",
       "                   coef    std err          t      P>|t|      [0.025      0.975]\n",
       "--------------------------------------------------------------------------------\n",
       "avg_precip     862.3188    559.620      1.541      0.128    -256.345    1980.983\n",
       "avg_tmp        -35.7624     52.471     -0.682      0.498    -140.651      69.126\n",
       "avg_wind       112.2885     54.855      2.047      0.045       2.634     221.943\n",
       "dew_point       52.1720     63.235      0.825      0.413     -74.232     178.576\n",
       "avg_humidity   -12.1280     17.816     -0.681      0.499     -47.741      23.485\n",
       "Intercept      859.7245   3086.128      0.279      0.781   -5309.357    7028.805\n",
       "==============================================================================\n",
       "Omnibus:                        0.593   Durbin-Watson:                   2.012\n",
       "Prob(Omnibus):                  0.744   Jarque-Bera (JB):                0.713\n",
       "Skew:                           0.194   Prob(JB):                        0.700\n",
       "Kurtosis:                       2.681   Cond. No.                     1.22e+04\n",
       "==============================================================================\n",
       "\n",
       "Warnings:\n",
       "[1] Standard Errors assume that the covariance matrix of the errors is correctly specified.\n",
       "[2] The condition number is large, 1.22e+04. This might indicate that there are\n",
       "strong multicollinearity or other numerical problems.\n",
       "\"\"\""
      ]
     },
     "execution_count": 9,
     "metadata": {},
     "output_type": "execute_result"
    }
   ],
   "source": [
    "X_train, X_test, y_train, y_test = model_selection.train_test_split(x, y, test_size=0.3)\n",
    "\n",
    "model = sm.OLS(y_train, X_train)\n",
    "fit = model.fit()\n",
    "fit.summary()"
   ]
  },
  {
   "cell_type": "markdown",
   "metadata": {},
   "source": [
    "**Analysis:**\n",
    "* R2 is very low (0.149), as well as Adj-R2 (0.08)\n",
    "* P Values don't look very good [0.045, 0,781]\n",
    "* Only variable that seems significant is **avg_wind**\n",
    "* Skew is close to 0 (0.194)\n",
    "* Kurtosis is low as well (2.68 < 7)\n",
    "\n",
    "**Residual Plot**"
   ]
  },
  {
   "cell_type": "code",
   "execution_count": 12,
   "metadata": {
    "scrolled": true
   },
   "outputs": [
    {
     "data": {
      "text/plain": [
       "<matplotlib.axes._subplots.AxesSubplot at 0x1c166c8dd8>"
      ]
     },
     "execution_count": 12,
     "metadata": {},
     "output_type": "execute_result"
    },
    {
     "data": {
      "image/png": "[encoded data removed]",
      "text/plain": [
       "<matplotlib.figure.Figure at 0x1c0d72e898>"
      ]
     },
     "metadata": {},
     "output_type": "display_data"
    }
   ],
   "source": [
    "fit.resid.plot(style='o', figsize=(6,4))"
   ]
  },
  {
   "cell_type": "code",
   "execution_count": 10,
   "metadata": {},
   "outputs": [
    {
     "data": {
      "text/plain": [
       "0.1486881837055748"
      ]
     },
     "execution_count": 10,
     "metadata": {},
     "output_type": "execute_result"
    }
   ],
   "source": [
    "lr = linear_model.LinearRegression()\n",
    "\n",
    "lr.fit(X_train, y_train)\n",
    "lr.score(X_train, y_train)"
   ]
  },
  {
   "cell_type": "markdown",
   "metadata": {},
   "source": [
    "Same R2 value, model is accurate, although not very predictive.\n",
    "\n",
    "**Test Score**"
   ]
  },
  {
   "cell_type": "code",
   "execution_count": 13,
   "metadata": {},
   "outputs": [
    {
     "data": {
      "text/plain": [
       "0.16766919392486102"
      ]
     },
     "execution_count": 13,
     "metadata": {},
     "output_type": "execute_result"
    }
   ],
   "source": [
    "lr.score(X_test, y_test)"
   ]
  },
  {
   "cell_type": "markdown",
   "metadata": {},
   "source": [
    "**Conclusion**\n",
    "\n",
    "Using only weather data, model is not very predictive.\n",
    "\n",
    "It seems as the only significant vaiables are Wind Speed, followed by Avg Precipitations by month.  Other weather information don't seem to influence on coffe Production\n",
    "\n",
    "Maybe the weather incluences only during the hasvest month:\n",
    "\n",
    "### Second Analysis (Weather *WITH* month information) \n",
    "\n",
    "**Separate Independent Variables (Weather AND Harvest Month)**"
   ]
  },
  {
   "cell_type": "code",
   "execution_count": 14,
   "metadata": {},
   "outputs": [
    {
     "data": {
      "text/html": [
       "<div>\n",
       "<style scoped>\n",
       "    .dataframe tbody tr th:only-of-type {\n",
       "        vertical-align: middle;\n",
       "    }\n",
       "\n",
       "    .dataframe tbody tr th {\n",
       "        vertical-align: top;\n",
       "    }\n",
       "\n",
       "    .dataframe thead th {\n",
       "        text-align: right;\n",
       "    }\n",
       "</style>\n",
       "<table border=\"1\" class=\"dataframe\">\n",
       "  <thead>\n",
       "    <tr style=\"text-align: right;\">\n",
       "      <th></th>\n",
       "      <th>avg_precip</th>\n",
       "      <th>avg_tmp</th>\n",
       "      <th>avg_wind</th>\n",
       "      <th>dew_point</th>\n",
       "      <th>avg_humidity</th>\n",
       "      <th>month[T.August]</th>\n",
       "      <th>month[T.December]</th>\n",
       "      <th>month[T.February]</th>\n",
       "      <th>month[T.January]</th>\n",
       "      <th>month[T.July]</th>\n",
       "      <th>month[T.June]</th>\n",
       "      <th>month[T.March]</th>\n",
       "      <th>month[T.May]</th>\n",
       "      <th>month[T.November]</th>\n",
       "      <th>month[T.October]</th>\n",
       "      <th>month[T.September]</th>\n",
       "      <th>Intercept</th>\n",
       "    </tr>\n",
       "  </thead>\n",
       "  <tbody>\n",
       "    <tr>\n",
       "      <th>0</th>\n",
       "      <td>0.0</td>\n",
       "      <td>73</td>\n",
       "      <td>1</td>\n",
       "      <td>64</td>\n",
       "      <td>69.625000</td>\n",
       "      <td>0.0</td>\n",
       "      <td>0.0</td>\n",
       "      <td>0.0</td>\n",
       "      <td>1.0</td>\n",
       "      <td>0.0</td>\n",
       "      <td>0.0</td>\n",
       "      <td>0.0</td>\n",
       "      <td>0.0</td>\n",
       "      <td>0.0</td>\n",
       "      <td>0.0</td>\n",
       "      <td>0.0</td>\n",
       "      <td>1.0</td>\n",
       "    </tr>\n",
       "    <tr>\n",
       "      <th>1</th>\n",
       "      <td>0.0</td>\n",
       "      <td>76</td>\n",
       "      <td>1</td>\n",
       "      <td>64</td>\n",
       "      <td>70.153846</td>\n",
       "      <td>0.0</td>\n",
       "      <td>0.0</td>\n",
       "      <td>1.0</td>\n",
       "      <td>0.0</td>\n",
       "      <td>0.0</td>\n",
       "      <td>0.0</td>\n",
       "      <td>0.0</td>\n",
       "      <td>0.0</td>\n",
       "      <td>0.0</td>\n",
       "      <td>0.0</td>\n",
       "      <td>0.0</td>\n",
       "      <td>1.0</td>\n",
       "    </tr>\n",
       "    <tr>\n",
       "      <th>2</th>\n",
       "      <td>0.0</td>\n",
       "      <td>75</td>\n",
       "      <td>1</td>\n",
       "      <td>65</td>\n",
       "      <td>68.500000</td>\n",
       "      <td>0.0</td>\n",
       "      <td>0.0</td>\n",
       "      <td>0.0</td>\n",
       "      <td>0.0</td>\n",
       "      <td>0.0</td>\n",
       "      <td>0.0</td>\n",
       "      <td>1.0</td>\n",
       "      <td>0.0</td>\n",
       "      <td>0.0</td>\n",
       "      <td>0.0</td>\n",
       "      <td>0.0</td>\n",
       "      <td>1.0</td>\n",
       "    </tr>\n",
       "    <tr>\n",
       "      <th>3</th>\n",
       "      <td>0.0</td>\n",
       "      <td>73</td>\n",
       "      <td>1</td>\n",
       "      <td>66</td>\n",
       "      <td>78.375000</td>\n",
       "      <td>0.0</td>\n",
       "      <td>0.0</td>\n",
       "      <td>0.0</td>\n",
       "      <td>0.0</td>\n",
       "      <td>0.0</td>\n",
       "      <td>0.0</td>\n",
       "      <td>0.0</td>\n",
       "      <td>0.0</td>\n",
       "      <td>0.0</td>\n",
       "      <td>0.0</td>\n",
       "      <td>0.0</td>\n",
       "      <td>1.0</td>\n",
       "    </tr>\n",
       "    <tr>\n",
       "      <th>4</th>\n",
       "      <td>0.0</td>\n",
       "      <td>74</td>\n",
       "      <td>1</td>\n",
       "      <td>66</td>\n",
       "      <td>76.703704</td>\n",
       "      <td>0.0</td>\n",
       "      <td>0.0</td>\n",
       "      <td>0.0</td>\n",
       "      <td>0.0</td>\n",
       "      <td>0.0</td>\n",
       "      <td>0.0</td>\n",
       "      <td>0.0</td>\n",
       "      <td>1.0</td>\n",
       "      <td>0.0</td>\n",
       "      <td>0.0</td>\n",
       "      <td>0.0</td>\n",
       "      <td>1.0</td>\n",
       "    </tr>\n",
       "  </tbody>\n",
       "</table>\n",
       "</div>"
      ],
      "text/plain": [
       "   avg_precip  avg_tmp  avg_wind  dew_point  avg_humidity  month[T.August]  \\\n",
       "0         0.0       73         1         64     69.625000              0.0   \n",
       "1         0.0       76         1         64     70.153846              0.0   \n",
       "2         0.0       75         1         65     68.500000              0.0   \n",
       "3         0.0       73         1         66     78.375000              0.0   \n",
       "4         0.0       74         1         66     76.703704              0.0   \n",
       "\n",
       "   month[T.December]  month[T.February]  month[T.January]  month[T.July]  \\\n",
       "0                0.0                0.0               1.0            0.0   \n",
       "1                0.0                1.0               0.0            0.0   \n",
       "2                0.0                0.0               0.0            0.0   \n",
       "3                0.0                0.0               0.0            0.0   \n",
       "4                0.0                0.0               0.0            0.0   \n",
       "\n",
       "   month[T.June]  month[T.March]  month[T.May]  month[T.November]  \\\n",
       "0            0.0             0.0           0.0                0.0   \n",
       "1            0.0             0.0           0.0                0.0   \n",
       "2            0.0             1.0           0.0                0.0   \n",
       "3            0.0             0.0           0.0                0.0   \n",
       "4            0.0             0.0           1.0                0.0   \n",
       "\n",
       "   month[T.October]  month[T.September]  Intercept  \n",
       "0               0.0                 0.0        1.0  \n",
       "1               0.0                 0.0        1.0  \n",
       "2               0.0                 0.0        1.0  \n",
       "3               0.0                 0.0        1.0  \n",
       "4               0.0                 0.0        1.0  "
      ]
     },
     "execution_count": 14,
     "metadata": {},
     "output_type": "execute_result"
    }
   ],
   "source": [
    "x = coffee_df[['avg_precip', 'avg_tmp', 'avg_wind',\n",
    "       'dew_point', 'avg_humidity', 'month[T.August]',\n",
    "       'month[T.December]', 'month[T.February]', 'month[T.January]',\n",
    "       'month[T.July]', 'month[T.June]', 'month[T.March]', 'month[T.May]',\n",
    "       'month[T.November]', 'month[T.October]', 'month[T.September]', 'Intercept']]\n",
    "x.head()"
   ]
  },
  {
   "cell_type": "markdown",
   "metadata": {},
   "source": [
    "**Split data into train (70%) and test (30%) sets, generate a model**"
   ]
  },
  {
   "cell_type": "code",
   "execution_count": 16,
   "metadata": {},
   "outputs": [
    {
     "data": {
      "text/html": [
       "<table class=\"simpletable\">\n",
       "<caption>OLS Regression Results</caption>\n",
       "<tr>\n",
       "  <th>Dep. Variable:</th>       <td>Produccion</td>    <th>  R-squared:         </th> <td>   0.505</td>\n",
       "</tr>\n",
       "<tr>\n",
       "  <th>Model:</th>                   <td>OLS</td>       <th>  Adj. R-squared:    </th> <td>   0.350</td>\n",
       "</tr>\n",
       "<tr>\n",
       "  <th>Method:</th>             <td>Least Squares</td>  <th>  F-statistic:       </th> <td>   3.255</td>\n",
       "</tr>\n",
       "<tr>\n",
       "  <th>Date:</th>             <td>Sun, 29 Apr 2018</td> <th>  Prob (F-statistic):</th> <td>0.000682</td>\n",
       "</tr>\n",
       "<tr>\n",
       "  <th>Time:</th>                 <td>13:12:23</td>     <th>  Log-Likelihood:    </th> <td> -458.57</td>\n",
       "</tr>\n",
       "<tr>\n",
       "  <th>No. Observations:</th>      <td>    68</td>      <th>  AIC:               </th> <td>   951.1</td>\n",
       "</tr>\n",
       "<tr>\n",
       "  <th>Df Residuals:</th>          <td>    51</td>      <th>  BIC:               </th> <td>   988.9</td>\n",
       "</tr>\n",
       "<tr>\n",
       "  <th>Df Model:</th>              <td>    16</td>      <th>                     </th>     <td> </td>   \n",
       "</tr>\n",
       "<tr>\n",
       "  <th>Covariance Type:</th>      <td>nonrobust</td>    <th>                     </th>     <td> </td>   \n",
       "</tr>\n",
       "</table>\n",
       "<table class=\"simpletable\">\n",
       "<tr>\n",
       "           <td></td>             <th>coef</th>     <th>std err</th>      <th>t</th>      <th>P>|t|</th>  <th>[0.025</th>    <th>0.975]</th>  \n",
       "</tr>\n",
       "<tr>\n",
       "  <th>avg_precip</th>         <td> 1338.7589</td> <td>  550.696</td> <td>    2.431</td> <td> 0.019</td> <td>  233.190</td> <td> 2444.327</td>\n",
       "</tr>\n",
       "<tr>\n",
       "  <th>avg_tmp</th>            <td>  -38.1641</td> <td>   53.153</td> <td>   -0.718</td> <td> 0.476</td> <td> -144.873</td> <td>   68.545</td>\n",
       "</tr>\n",
       "<tr>\n",
       "  <th>avg_wind</th>           <td>  114.3527</td> <td>   55.903</td> <td>    2.046</td> <td> 0.046</td> <td>    2.123</td> <td>  226.583</td>\n",
       "</tr>\n",
       "<tr>\n",
       "  <th>dew_point</th>          <td>  147.8855</td> <td>   65.828</td> <td>    2.247</td> <td> 0.029</td> <td>   15.729</td> <td>  280.042</td>\n",
       "</tr>\n",
       "<tr>\n",
       "  <th>avg_humidity</th>       <td>  -21.2452</td> <td>   19.217</td> <td>   -1.106</td> <td> 0.274</td> <td>  -59.825</td> <td>   17.335</td>\n",
       "</tr>\n",
       "<tr>\n",
       "  <th>month[T.August]</th>    <td>  313.2312</td> <td>  155.334</td> <td>    2.017</td> <td> 0.049</td> <td>    1.386</td> <td>  625.077</td>\n",
       "</tr>\n",
       "<tr>\n",
       "  <th>month[T.December]</th>  <td>  641.7043</td> <td>  145.625</td> <td>    4.407</td> <td> 0.000</td> <td>  349.349</td> <td>  934.059</td>\n",
       "</tr>\n",
       "<tr>\n",
       "  <th>month[T.February]</th>  <td>  232.2729</td> <td>  135.291</td> <td>    1.717</td> <td> 0.092</td> <td>  -39.336</td> <td>  503.882</td>\n",
       "</tr>\n",
       "<tr>\n",
       "  <th>month[T.January]</th>   <td>  308.6742</td> <td>  170.989</td> <td>    1.805</td> <td> 0.077</td> <td>  -34.600</td> <td>  651.949</td>\n",
       "</tr>\n",
       "<tr>\n",
       "  <th>month[T.July]</th>      <td>  450.3257</td> <td>  151.367</td> <td>    2.975</td> <td> 0.004</td> <td>  146.443</td> <td>  754.208</td>\n",
       "</tr>\n",
       "<tr>\n",
       "  <th>month[T.June]</th>      <td>  163.9048</td> <td>  179.219</td> <td>    0.915</td> <td> 0.365</td> <td> -195.892</td> <td>  523.701</td>\n",
       "</tr>\n",
       "<tr>\n",
       "  <th>month[T.March]</th>     <td>   83.3176</td> <td>  142.127</td> <td>    0.586</td> <td> 0.560</td> <td> -202.014</td> <td>  368.649</td>\n",
       "</tr>\n",
       "<tr>\n",
       "  <th>month[T.May]</th>       <td>  213.2967</td> <td>  138.161</td> <td>    1.544</td> <td> 0.129</td> <td>  -64.072</td> <td>  490.666</td>\n",
       "</tr>\n",
       "<tr>\n",
       "  <th>month[T.November]</th>  <td>  501.4924</td> <td>  138.931</td> <td>    3.610</td> <td> 0.001</td> <td>  222.577</td> <td>  780.407</td>\n",
       "</tr>\n",
       "<tr>\n",
       "  <th>month[T.October]</th>   <td>  327.5778</td> <td>  148.400</td> <td>    2.207</td> <td> 0.032</td> <td>   29.652</td> <td>  625.504</td>\n",
       "</tr>\n",
       "<tr>\n",
       "  <th>month[T.September]</th> <td>  236.2514</td> <td>  163.902</td> <td>    1.441</td> <td> 0.156</td> <td>  -92.795</td> <td>  565.298</td>\n",
       "</tr>\n",
       "<tr>\n",
       "  <th>Intercept</th>          <td>-4857.4072</td> <td> 3568.145</td> <td>   -1.361</td> <td> 0.179</td> <td> -1.2e+04</td> <td> 2305.943</td>\n",
       "</tr>\n",
       "</table>\n",
       "<table class=\"simpletable\">\n",
       "<tr>\n",
       "  <th>Omnibus:</th>       <td> 0.067</td> <th>  Durbin-Watson:     </th> <td>   1.864</td>\n",
       "</tr>\n",
       "<tr>\n",
       "  <th>Prob(Omnibus):</th> <td> 0.967</td> <th>  Jarque-Bera (JB):  </th> <td>   0.090</td>\n",
       "</tr>\n",
       "<tr>\n",
       "  <th>Skew:</th>          <td>-0.062</td> <th>  Prob(JB):          </th> <td>   0.956</td>\n",
       "</tr>\n",
       "<tr>\n",
       "  <th>Kurtosis:</th>      <td> 2.873</td> <th>  Cond. No.          </th> <td>1.54e+04</td>\n",
       "</tr>\n",
       "</table>"
      ],
      "text/plain": [
       "<class 'statsmodels.iolib.summary.Summary'>\n",
       "\"\"\"\n",
       "                            OLS Regression Results                            \n",
       "==============================================================================\n",
       "Dep. Variable:             Produccion   R-squared:                       0.505\n",
       "Model:                            OLS   Adj. R-squared:                  0.350\n",
       "Method:                 Least Squares   F-statistic:                     3.255\n",
       "Date:                Sun, 29 Apr 2018   Prob (F-statistic):           0.000682\n",
       "Time:                        13:12:23   Log-Likelihood:                -458.57\n",
       "No. Observations:                  68   AIC:                             951.1\n",
       "Df Residuals:                      51   BIC:                             988.9\n",
       "Df Model:                          16                                         \n",
       "Covariance Type:            nonrobust                                         \n",
       "======================================================================================\n",
       "                         coef    std err          t      P>|t|      [0.025      0.975]\n",
       "--------------------------------------------------------------------------------------\n",
       "avg_precip          1338.7589    550.696      2.431      0.019     233.190    2444.327\n",
       "avg_tmp              -38.1641     53.153     -0.718      0.476    -144.873      68.545\n",
       "avg_wind             114.3527     55.903      2.046      0.046       2.123     226.583\n",
       "dew_point            147.8855     65.828      2.247      0.029      15.729     280.042\n",
       "avg_humidity         -21.2452     19.217     -1.106      0.274     -59.825      17.335\n",
       "month[T.August]      313.2312    155.334      2.017      0.049       1.386     625.077\n",
       "month[T.December]    641.7043    145.625      4.407      0.000     349.349     934.059\n",
       "month[T.February]    232.2729    135.291      1.717      0.092     -39.336     503.882\n",
       "month[T.January]     308.6742    170.989      1.805      0.077     -34.600     651.949\n",
       "month[T.July]        450.3257    151.367      2.975      0.004     146.443     754.208\n",
       "month[T.June]        163.9048    179.219      0.915      0.365    -195.892     523.701\n",
       "month[T.March]        83.3176    142.127      0.586      0.560    -202.014     368.649\n",
       "month[T.May]         213.2967    138.161      1.544      0.129     -64.072     490.666\n",
       "month[T.November]    501.4924    138.931      3.610      0.001     222.577     780.407\n",
       "month[T.October]     327.5778    148.400      2.207      0.032      29.652     625.504\n",
       "month[T.September]   236.2514    163.902      1.441      0.156     -92.795     565.298\n",
       "Intercept          -4857.4072   3568.145     -1.361      0.179    -1.2e+04    2305.943\n",
       "==============================================================================\n",
       "Omnibus:                        0.067   Durbin-Watson:                   1.864\n",
       "Prob(Omnibus):                  0.967   Jarque-Bera (JB):                0.090\n",
       "Skew:                          -0.062   Prob(JB):                        0.956\n",
       "Kurtosis:                       2.873   Cond. No.                     1.54e+04\n",
       "==============================================================================\n",
       "\n",
       "Warnings:\n",
       "[1] Standard Errors assume that the covariance matrix of the errors is correctly specified.\n",
       "[2] The condition number is large, 1.54e+04. This might indicate that there are\n",
       "strong multicollinearity or other numerical problems.\n",
       "\"\"\""
      ]
     },
     "execution_count": 16,
     "metadata": {},
     "output_type": "execute_result"
    }
   ],
   "source": [
    "X_train, X_test, y_train, y_test = model_selection.train_test_split(x, y, test_size=0.3)\n",
    "\n",
    "model = sm.OLS(y_train, X_train)\n",
    "fit = model.fit()\n",
    "fit.summary()"
   ]
  },
  {
   "cell_type": "markdown",
   "metadata": {},
   "source": [
    "**Analysis:**\n",
    "* R2 improves (0.505), as well as Adj-R2 (0.35)\n",
    "* P Values also imrpove on **weather variables** but they still don't look very good [0.029, 0,476]\n",
    "* Significant **weather variables** now seem to be **avg_wind, avg_precip and dew_point**\n",
    "* Skew is now negative, but close to 0 (-0.062)\n",
    "* Kurtosis is low as well (2.87 < 7)\n",
    "\n",
    "**Residual Plot**"
   ]
  },
  {
   "cell_type": "code",
   "execution_count": 17,
   "metadata": {
    "scrolled": true
   },
   "outputs": [
    {
     "data": {
      "text/plain": [
       "<matplotlib.axes._subplots.AxesSubplot at 0x1c1708a208>"
      ]
     },
     "execution_count": 17,
     "metadata": {},
     "output_type": "execute_result"
    },
    {
     "data": {
      "image/png": "[encoded data removed]",
      "text/plain": [
       "<matplotlib.figure.Figure at 0x1c0d72eb70>"
      ]
     },
     "metadata": {},
     "output_type": "display_data"
    }
   ],
   "source": [
    "fit.resid.plot(style='o', figsize=(6,4))"
   ]
  },
  {
   "cell_type": "code",
   "execution_count": 18,
   "metadata": {},
   "outputs": [
    {
     "data": {
      "text/plain": [
       "0.5052118856048835"
      ]
     },
     "execution_count": 18,
     "metadata": {},
     "output_type": "execute_result"
    }
   ],
   "source": [
    "lr = linear_model.LinearRegression()\n",
    "\n",
    "lr.fit(X_train, y_train)\n",
    "lr.score(X_train, y_train)"
   ]
  },
  {
   "cell_type": "markdown",
   "metadata": {},
   "source": [
    "Same R2 value, model is accurate, although still not very predictive.\n",
    "\n",
    "**Test Score**"
   ]
  },
  {
   "cell_type": "code",
   "execution_count": 19,
   "metadata": {},
   "outputs": [
    {
     "data": {
      "text/plain": [
       "-0.09713302089128771"
      ]
     },
     "execution_count": 19,
     "metadata": {},
     "output_type": "execute_result"
    }
   ],
   "source": [
    "lr.score(X_test, y_test)"
   ]
  },
  {
   "cell_type": "markdown",
   "metadata": {},
   "source": [
    "**Conclusion**\n",
    "\n",
    "Month of harvest seem to be an important feature on Coffee Production, it affects, not only the result, but the weather variables as well.  Both combined, they improve the model. Seems like weather affects the month of hasrvesting not not very much on other stages of coffeee life cycle.\n",
    "\n",
    "However, model is now Overfit.  Although we got a better R2 value for the training set, test score is now negative, wich might indicate that the model is fitting itself only to the training data.  Other external variables mihgt need to be analyzed."
   ]
  },
  {
   "cell_type": "code",
   "execution_count": null,
   "metadata": {},
   "outputs": [],
   "source": []
  }
 ],
 "metadata": {
  "kernelspec": {
   "display_name": "Python 3",
   "language": "python",
   "name": "python3"
  },
  "language_info": {
   "codemirror_mode": {
    "name": "ipython",
    "version": 3
   },
   "file_extension": ".py",
   "mimetype": "text/x-python",
   "name": "python",
   "nbconvert_exporter": "python",
   "pygments_lexer": "ipython3",
   "version": "3.6.4"
  }
 },
 "nbformat": 4,
 "nbformat_minor": 2
}
