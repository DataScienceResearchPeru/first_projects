{
 "cells": [
  {
   "cell_type": "markdown",
   "metadata": {},
   "source": [
    "# Challenge #3\n",
    "Topic:        **Challenge Set 3**  \n",
    "Subject:      Analysis of Colombian Weather Data  \n",
    "Date:         04/28/2018  \n",
    "Name:         Mónica Ramírez  "
   ]
  },
  {
   "cell_type": "code",
   "execution_count": 118,
   "metadata": {},
   "outputs": [],
   "source": [
    "#Library Section\n",
    "import pandas as pd\n",
    "import numpy as np\n",
    "import matplotlib.pyplot as plt\n",
    "import patsy\n",
    "\n",
    "import statsmodels.api as sm\n",
    "\n",
    "from sklearn import linear_model\n",
    "from sklearn import model_selection"
   ]
  },
  {
   "cell_type": "markdown",
   "metadata": {},
   "source": [
    "## # Linear Regression and Train/Test Split challenges\n",
    "\n",
    "Ideally, try these with your own data! (Alternatively, there is the 2013_movies.csv data set.)\n",
    "* Will work with weather.csv (Data scraped from www.wunderground.com, for Quindio, Colombia, already cleaned and transformed for project Luther)"
   ]
  },
  {
   "cell_type": "code",
   "execution_count": 119,
   "metadata": {},
   "outputs": [
    {
     "data": {
      "text/plain": [
       "Index(['year', 'month', 'avg_tmp', 'dew_point', 'avg_precip', 'sum_precip',\n",
       "       'avg_wind', 'day_humidity'],\n",
       "      dtype='object')"
      ]
     },
     "execution_count": 119,
     "metadata": {},
     "output_type": "execute_result"
    }
   ],
   "source": [
    "weather_df=pd.read_csv('weather.csv')\n",
    "weather_df.columns"
   ]
  },
  {
   "cell_type": "markdown",
   "metadata": {},
   "source": [
    "**Challenge 1**\n",
    "\n",
    "Build a linear model that uses only a constant term (a column of ones) to predict a continuous outcome (like domestic total gross). How can you interpret the results of this model? What does it predict? "
   ]
  },
  {
   "cell_type": "code",
   "execution_count": 120,
   "metadata": {},
   "outputs": [
    {
     "name": "stderr",
     "output_type": "stream",
     "text": [
      "/Users/monita/anaconda3/lib/python3.6/site-packages/statsmodels/regression/linear_model.py:1396: RuntimeWarning: divide by zero encountered in double_scalars\n",
      "  return self.ess/self.df_model\n"
     ]
    },
    {
     "data": {
      "text/html": [
       "<table class=\"simpletable\">\n",
       "<caption>OLS Regression Results</caption>\n",
       "<tr>\n",
       "  <th>Dep. Variable:</th>         <td>avg_tmp</td>     <th>  R-squared:         </th> <td>  -0.000</td>\n",
       "</tr>\n",
       "<tr>\n",
       "  <th>Model:</th>                   <td>OLS</td>       <th>  Adj. R-squared:    </th> <td>  -0.000</td>\n",
       "</tr>\n",
       "<tr>\n",
       "  <th>Method:</th>             <td>Least Squares</td>  <th>  F-statistic:       </th> <td>    -inf</td>\n",
       "</tr>\n",
       "<tr>\n",
       "  <th>Date:</th>             <td>Sat, 28 Apr 2018</td> <th>  Prob (F-statistic):</th>  <td>   nan</td> \n",
       "</tr>\n",
       "<tr>\n",
       "  <th>Time:</th>                 <td>12:38:26</td>     <th>  Log-Likelihood:    </th> <td> -154.70</td>\n",
       "</tr>\n",
       "<tr>\n",
       "  <th>No. Observations:</th>      <td>    99</td>      <th>  AIC:               </th> <td>   311.4</td>\n",
       "</tr>\n",
       "<tr>\n",
       "  <th>Df Residuals:</th>          <td>    98</td>      <th>  BIC:               </th> <td>   314.0</td>\n",
       "</tr>\n",
       "<tr>\n",
       "  <th>Df Model:</th>              <td>     0</td>      <th>                     </th>     <td> </td>   \n",
       "</tr>\n",
       "<tr>\n",
       "  <th>Covariance Type:</th>      <td>nonrobust</td>    <th>                     </th>     <td> </td>   \n",
       "</tr>\n",
       "</table>\n",
       "<table class=\"simpletable\">\n",
       "<tr>\n",
       "    <td></td>      <th>coef</th>     <th>std err</th>      <th>t</th>      <th>P>|t|</th>  <th>[0.025</th>    <th>0.975]</th>  \n",
       "</tr>\n",
       "<tr>\n",
       "  <th>ones</th> <td>   72.7980</td> <td>    0.117</td> <td>  624.208</td> <td> 0.000</td> <td>   72.567</td> <td>   73.029</td>\n",
       "</tr>\n",
       "</table>\n",
       "<table class=\"simpletable\">\n",
       "<tr>\n",
       "  <th>Omnibus:</th>       <td> 3.812</td> <th>  Durbin-Watson:     </th> <td>   1.091</td>\n",
       "</tr>\n",
       "<tr>\n",
       "  <th>Prob(Omnibus):</th> <td> 0.149</td> <th>  Jarque-Bera (JB):  </th> <td>   4.244</td>\n",
       "</tr>\n",
       "<tr>\n",
       "  <th>Skew:</th>          <td>-0.113</td> <th>  Prob(JB):          </th> <td>   0.120</td>\n",
       "</tr>\n",
       "<tr>\n",
       "  <th>Kurtosis:</th>      <td> 3.989</td> <th>  Cond. No.          </th> <td>    1.00</td>\n",
       "</tr>\n",
       "</table>"
      ],
      "text/plain": [
       "<class 'statsmodels.iolib.summary.Summary'>\n",
       "\"\"\"\n",
       "                            OLS Regression Results                            \n",
       "==============================================================================\n",
       "Dep. Variable:                avg_tmp   R-squared:                      -0.000\n",
       "Model:                            OLS   Adj. R-squared:                 -0.000\n",
       "Method:                 Least Squares   F-statistic:                      -inf\n",
       "Date:                Sat, 28 Apr 2018   Prob (F-statistic):                nan\n",
       "Time:                        12:38:26   Log-Likelihood:                -154.70\n",
       "No. Observations:                  99   AIC:                             311.4\n",
       "Df Residuals:                      98   BIC:                             314.0\n",
       "Df Model:                           0                                         \n",
       "Covariance Type:            nonrobust                                         \n",
       "==============================================================================\n",
       "                 coef    std err          t      P>|t|      [0.025      0.975]\n",
       "------------------------------------------------------------------------------\n",
       "ones          72.7980      0.117    624.208      0.000      72.567      73.029\n",
       "==============================================================================\n",
       "Omnibus:                        3.812   Durbin-Watson:                   1.091\n",
       "Prob(Omnibus):                  0.149   Jarque-Bera (JB):                4.244\n",
       "Skew:                          -0.113   Prob(JB):                        0.120\n",
       "Kurtosis:                       3.989   Cond. No.                         1.00\n",
       "==============================================================================\n",
       "\n",
       "Warnings:\n",
       "[1] Standard Errors assume that the covariance matrix of the errors is correctly specified.\n",
       "\"\"\""
      ]
     },
     "execution_count": 120,
     "metadata": {},
     "output_type": "execute_result"
    }
   ],
   "source": [
    "# Independent variable: Temperature\n",
    "y = weather_df['avg_tmp']\n",
    "\n",
    "#Create new column with just ones\n",
    "weather_df['ones']=np.ones(len(weather_df))\n",
    "x = pd.DataFrame(weather_df['ones'])\n",
    "\n",
    "#Build Linear Model only on this variable\n",
    "model = sm.OLS(y, x)\n",
    "fit = model.fit()\n",
    "fit.summary()"
   ]
  },
  {
   "cell_type": "markdown",
   "metadata": {},
   "source": [
    "> This project can't predict accurately because temperature is a variable value and we are prediting based on a constant value.  It will predict that temperature will always be 72.798 F, independent of other features that weren't included in the model\n",
    "\n",
    "Make a plot of predictions against actual outcome."
   ]
  },
  {
   "cell_type": "code",
   "execution_count": 121,
   "metadata": {},
   "outputs": [],
   "source": [
    "lr = linear_model.LinearRegression()\n",
    "lr.fit(x, y)\n",
    "y_pred = lr.predict(x)"
   ]
  },
  {
   "cell_type": "code",
   "execution_count": 122,
   "metadata": {
    "scrolled": true
   },
   "outputs": [
    {
     "name": "stdout",
     "output_type": "stream",
     "text": [
      "Populating the interactive namespace from numpy and matplotlib\n"
     ]
    },
    {
     "data": {
      "text/plain": [
       "<matplotlib.legend.Legend at 0x1c207700f0>"
      ]
     },
     "execution_count": 122,
     "metadata": {},
     "output_type": "execute_result"
    },
    {
     "data": {
      "image/png": "[encoded data removed]",
      "text/plain": [
       "<matplotlib.figure.Figure at 0x1c204f4cc0>"
      ]
     },
     "metadata": {},
     "output_type": "display_data"
    }
   ],
   "source": [
    "%pylab inline\n",
    "\n",
    "plt.figure(figsize=(10,5))\n",
    "plt.plot(x['ones'], y, color='purple', label='Real')\n",
    "plt.scatter(x['ones'], y_pred, color='green', label='Predict', marker='x', s=50)\n",
    "\n",
    "plt.title('Temperature Prediction based on constant value', fontsize=15)\n",
    "plt.xlabel('Constant Value', fontsize=12)\n",
    "plt.ylabel('Temperature (F)', fontsize=12)\n",
    "plt.legend()"
   ]
  },
  {
   "cell_type": "markdown",
   "metadata": {},
   "source": [
    "Make a histogram of residuals. How are the residuals distributed?\n",
    "> They try to be Normal"
   ]
  },
  {
   "cell_type": "code",
   "execution_count": 123,
   "metadata": {},
   "outputs": [
    {
     "name": "stderr",
     "output_type": "stream",
     "text": [
      "No handles with labels found to put in legend.\n"
     ]
    },
    {
     "name": "stdout",
     "output_type": "stream",
     "text": [
      "Populating the interactive namespace from numpy and matplotlib\n"
     ]
    },
    {
     "data": {
      "text/plain": [
       "<matplotlib.legend.Legend at 0x1c20794160>"
      ]
     },
     "execution_count": 123,
     "metadata": {},
     "output_type": "execute_result"
    },
    {
     "data": {
      "image/png": "[encoded data removed]",
      "text/plain": [
       "<matplotlib.figure.Figure at 0x1c204d2390>"
      ]
     },
     "metadata": {},
     "output_type": "display_data"
    }
   ],
   "source": [
    "%pylab inline\n",
    "\n",
    "plt.figure(figsize=(10,5))\n",
    "fit.resid.hist(figsize=(10,6), color='xkcd:mustard')\n",
    "\n",
    "plt.title('Residual Distribution of Temperature based on constant value', fontsize=15)\n",
    "plt.ylabel('Residual', fontsize=12)\n",
    "plt.legend()"
   ]
  },
  {
   "cell_type": "markdown",
   "metadata": {},
   "source": [
    "**Challenge 2**\n",
    "\n",
    "Repeat the process of challenge one, but also add one continuous (numeric) predictor variable. Also add plots of model prediction against your feature variable and residuals against feature variable. How can you interpret what's happening in the model?"
   ]
  },
  {
   "cell_type": "code",
   "execution_count": 124,
   "metadata": {},
   "outputs": [
    {
     "data": {
      "text/plain": [
       "Index(['year', 'month', 'avg_tmp', 'dew_point', 'avg_precip', 'sum_precip',\n",
       "       'avg_wind', 'day_humidity', 'ones'],\n",
       "      dtype='object')"
      ]
     },
     "execution_count": 124,
     "metadata": {},
     "output_type": "execute_result"
    }
   ],
   "source": [
    "weather_df.columns"
   ]
  },
  {
   "cell_type": "code",
   "execution_count": 127,
   "metadata": {
    "scrolled": true
   },
   "outputs": [
    {
     "data": {
      "text/html": [
       "<table class=\"simpletable\">\n",
       "<caption>OLS Regression Results</caption>\n",
       "<tr>\n",
       "  <th>Dep. Variable:</th>         <td>avg_tmp</td>     <th>  R-squared:         </th> <td>   0.000</td>\n",
       "</tr>\n",
       "<tr>\n",
       "  <th>Model:</th>                   <td>OLS</td>       <th>  Adj. R-squared:    </th> <td>  -0.010</td>\n",
       "</tr>\n",
       "<tr>\n",
       "  <th>Method:</th>             <td>Least Squares</td>  <th>  F-statistic:       </th> <td> 0.04534</td>\n",
       "</tr>\n",
       "<tr>\n",
       "  <th>Date:</th>             <td>Sat, 28 Apr 2018</td> <th>  Prob (F-statistic):</th>  <td> 0.832</td> \n",
       "</tr>\n",
       "<tr>\n",
       "  <th>Time:</th>                 <td>12:38:51</td>     <th>  Log-Likelihood:    </th> <td> -154.68</td>\n",
       "</tr>\n",
       "<tr>\n",
       "  <th>No. Observations:</th>      <td>    99</td>      <th>  AIC:               </th> <td>   313.4</td>\n",
       "</tr>\n",
       "<tr>\n",
       "  <th>Df Residuals:</th>          <td>    97</td>      <th>  BIC:               </th> <td>   318.5</td>\n",
       "</tr>\n",
       "<tr>\n",
       "  <th>Df Model:</th>              <td>     1</td>      <th>                     </th>     <td> </td>   \n",
       "</tr>\n",
       "<tr>\n",
       "  <th>Covariance Type:</th>      <td>nonrobust</td>    <th>                     </th>     <td> </td>   \n",
       "</tr>\n",
       "</table>\n",
       "<table class=\"simpletable\">\n",
       "<tr>\n",
       "       <td></td>         <th>coef</th>     <th>std err</th>      <th>t</th>      <th>P>|t|</th>  <th>[0.025</th>    <th>0.975]</th>  \n",
       "</tr>\n",
       "<tr>\n",
       "  <th>ones</th>       <td>   72.7708</td> <td>    0.173</td> <td>  419.981</td> <td> 0.000</td> <td>   72.427</td> <td>   73.115</td>\n",
       "</tr>\n",
       "<tr>\n",
       "  <th>avg_precip</th> <td>    0.4015</td> <td>    1.886</td> <td>    0.213</td> <td> 0.832</td> <td>   -3.341</td> <td>    4.144</td>\n",
       "</tr>\n",
       "</table>\n",
       "<table class=\"simpletable\">\n",
       "<tr>\n",
       "  <th>Omnibus:</th>       <td> 3.549</td> <th>  Durbin-Watson:     </th> <td>   1.096</td>\n",
       "</tr>\n",
       "<tr>\n",
       "  <th>Prob(Omnibus):</th> <td> 0.170</td> <th>  Jarque-Bera (JB):  </th> <td>   3.832</td>\n",
       "</tr>\n",
       "<tr>\n",
       "  <th>Skew:</th>          <td>-0.095</td> <th>  Prob(JB):          </th> <td>   0.147</td>\n",
       "</tr>\n",
       "<tr>\n",
       "  <th>Kurtosis:</th>      <td> 3.945</td> <th>  Cond. No.          </th> <td>    16.2</td>\n",
       "</tr>\n",
       "</table>"
      ],
      "text/plain": [
       "<class 'statsmodels.iolib.summary.Summary'>\n",
       "\"\"\"\n",
       "                            OLS Regression Results                            \n",
       "==============================================================================\n",
       "Dep. Variable:                avg_tmp   R-squared:                       0.000\n",
       "Model:                            OLS   Adj. R-squared:                 -0.010\n",
       "Method:                 Least Squares   F-statistic:                   0.04534\n",
       "Date:                Sat, 28 Apr 2018   Prob (F-statistic):              0.832\n",
       "Time:                        12:38:51   Log-Likelihood:                -154.68\n",
       "No. Observations:                  99   AIC:                             313.4\n",
       "Df Residuals:                      97   BIC:                             318.5\n",
       "Df Model:                           1                                         \n",
       "Covariance Type:            nonrobust                                         \n",
       "==============================================================================\n",
       "                 coef    std err          t      P>|t|      [0.025      0.975]\n",
       "------------------------------------------------------------------------------\n",
       "ones          72.7708      0.173    419.981      0.000      72.427      73.115\n",
       "avg_precip     0.4015      1.886      0.213      0.832      -3.341       4.144\n",
       "==============================================================================\n",
       "Omnibus:                        3.549   Durbin-Watson:                   1.096\n",
       "Prob(Omnibus):                  0.170   Jarque-Bera (JB):                3.832\n",
       "Skew:                          -0.095   Prob(JB):                        0.147\n",
       "Kurtosis:                       3.945   Cond. No.                         16.2\n",
       "==============================================================================\n",
       "\n",
       "Warnings:\n",
       "[1] Standard Errors assume that the covariance matrix of the errors is correctly specified.\n",
       "\"\"\""
      ]
     },
     "execution_count": 127,
     "metadata": {},
     "output_type": "execute_result"
    }
   ],
   "source": [
    "#Now use one predictor variable: Average Precipitation\n",
    "x = weather_df[['ones','avg_precip']]\n",
    "\n",
    "#Build Linear Model only on this variable\n",
    "model = sm.OLS(y, x)\n",
    "fit = model.fit()\n",
    "fit.summary()"
   ]
  },
  {
   "cell_type": "code",
   "execution_count": 128,
   "metadata": {},
   "outputs": [
    {
     "data": {
      "text/plain": [
       "array([72.77080482, 72.77080482, 72.77080482, 72.77080482, 72.77080482,\n",
       "       72.77080482, 72.77080482, 72.77080482, 72.77080482, 72.77080482,\n",
       "       72.77080482, 72.77080482, 72.77080482, 72.77080482, 72.77080482,\n",
       "       72.77080482, 72.77080482, 72.77080482, 72.77080482, 72.77080482,\n",
       "       72.77080482, 72.77080482, 72.77080482, 72.77080482, 72.77080482,\n",
       "       72.77080482, 72.77080482, 72.82702052, 72.79489726, 72.80694348,\n",
       "       72.80292808, 72.78686645, 72.79891267, 72.83103592, 72.84709755,\n",
       "       72.82702052, 72.77883564, 72.8189897 , 72.80694348, 72.8149743 ,\n",
       "       72.79891267, 72.79891267, 72.78285104, 72.80694348, 72.80694348,\n",
       "       72.82300511, 72.83103592, 72.81095889, 72.80292808, 72.82702052,\n",
       "       72.84308214, 72.83103592, 72.80292808, 72.79489726, 72.77482023,\n",
       "       72.78285104, 72.81095889, 72.8189897 , 72.79489726, 72.79489726,\n",
       "       72.79891267, 72.79088186, 72.85111295, 72.83505133, 72.79891267,\n",
       "       72.77482023, 72.79088186, 72.78285104, 72.88323621, 72.83505133,\n",
       "       72.80292808, 72.77883564, 72.78686645, 72.83103592, 72.81095889,\n",
       "       72.80292808, 72.83906673, 72.79088186, 72.78686645, 72.79088186,\n",
       "       72.81095889, 72.84709755, 72.84308214, 72.83103592, 72.79489726,\n",
       "       72.77883564, 72.81095889, 72.8189897 , 72.8149743 , 72.83103592,\n",
       "       72.79088186, 72.77482023, 72.80292808, 72.79891267, 72.8189897 ,\n",
       "       72.79489726, 72.77080482, 72.80694348, 72.80292808])"
      ]
     },
     "execution_count": 128,
     "metadata": {},
     "output_type": "execute_result"
    }
   ],
   "source": [
    "lr = linear_model.LinearRegression()\n",
    "lr.fit(x, y)\n",
    "y_pred = lr.predict(x)\n",
    "y_pred"
   ]
  },
  {
   "cell_type": "code",
   "execution_count": 129,
   "metadata": {
    "scrolled": true
   },
   "outputs": [
    {
     "name": "stdout",
     "output_type": "stream",
     "text": [
      "Populating the interactive namespace from numpy and matplotlib\n"
     ]
    },
    {
     "data": {
      "image/png": "[encoded data removed]",
      "text/plain": [
       "<matplotlib.figure.Figure at 0x1c204d2898>"
      ]
     },
     "metadata": {},
     "output_type": "display_data"
    }
   ],
   "source": [
    "%pylab inline\n",
    "\n",
    "plt.figure(figsize=(10,10))\n",
    "plt.scatter(x['avg_precip'], y, color='purple', label='Real')\n",
    "plt.plot(x['avg_precip'], y_pred, color='green', label='Predict', marker='x')\n",
    "\n",
    "plt.title('Temperature Prediction based on Precipitations by Month', fontsize=15)\n",
    "plt.xlabel('Avg Precipitations', fontsize=12)\n",
    "plt.ylabel('Temperature (F)', fontsize=12)\n",
    "plt.legend()\n",
    "plt.grid()"
   ]
  },
  {
   "cell_type": "code",
   "execution_count": 131,
   "metadata": {},
   "outputs": [
    {
     "name": "stdout",
     "output_type": "stream",
     "text": [
      "Populating the interactive namespace from numpy and matplotlib\n"
     ]
    },
    {
     "data": {
      "text/plain": [
       "Text(0,0.5,'Residual')"
      ]
     },
     "execution_count": 131,
     "metadata": {},
     "output_type": "execute_result"
    },
    {
     "data": {
      "image/png": "[encoded data removed]",
      "text/plain": [
       "<matplotlib.figure.Figure at 0x1c20970e10>"
      ]
     },
     "metadata": {},
     "output_type": "display_data"
    }
   ],
   "source": [
    "%pylab inline\n",
    "\n",
    "plt.figure(figsize=(10,5))\n",
    "fit.resid.hist(figsize=(10,6), color='xkcd:mustard')\n",
    "\n",
    "plt.title('Residual Distribution of Temperature based on Average Temperature', fontsize=15)\n",
    "plt.ylabel('Residual', fontsize=12)"
   ]
  },
  {
   "cell_type": "markdown",
   "metadata": {},
   "source": [
    "**Challenge 3**\n",
    "\n",
    "Repeat the process of challenge 1, but add a categorical feature (like genre). You'll have to convert a column of text into a number of numerical columns (\"dummy variables\"). How can you interpret what's happening in the model?"
   ]
  },
  {
   "cell_type": "code",
   "execution_count": 132,
   "metadata": {
    "scrolled": true
   },
   "outputs": [
    {
     "data": {
      "text/html": [
       "<div>\n",
       "<style scoped>\n",
       "    .dataframe tbody tr th:only-of-type {\n",
       "        vertical-align: middle;\n",
       "    }\n",
       "\n",
       "    .dataframe tbody tr th {\n",
       "        vertical-align: top;\n",
       "    }\n",
       "\n",
       "    .dataframe thead th {\n",
       "        text-align: right;\n",
       "    }\n",
       "</style>\n",
       "<table border=\"1\" class=\"dataframe\">\n",
       "  <thead>\n",
       "    <tr style=\"text-align: right;\">\n",
       "      <th></th>\n",
       "      <th>Intercept</th>\n",
       "      <th>month[T.August]</th>\n",
       "      <th>month[T.December]</th>\n",
       "      <th>month[T.February]</th>\n",
       "      <th>month[T.January]</th>\n",
       "      <th>month[T.July]</th>\n",
       "      <th>month[T.June]</th>\n",
       "      <th>month[T.March]</th>\n",
       "      <th>month[T.May]</th>\n",
       "      <th>month[T.November]</th>\n",
       "      <th>month[T.October]</th>\n",
       "      <th>month[T.September]</th>\n",
       "    </tr>\n",
       "  </thead>\n",
       "  <tbody>\n",
       "    <tr>\n",
       "      <th>0</th>\n",
       "      <td>1.0</td>\n",
       "      <td>0.0</td>\n",
       "      <td>0.0</td>\n",
       "      <td>0.0</td>\n",
       "      <td>1.0</td>\n",
       "      <td>0.0</td>\n",
       "      <td>0.0</td>\n",
       "      <td>0.0</td>\n",
       "      <td>0.0</td>\n",
       "      <td>0.0</td>\n",
       "      <td>0.0</td>\n",
       "      <td>0.0</td>\n",
       "    </tr>\n",
       "    <tr>\n",
       "      <th>1</th>\n",
       "      <td>1.0</td>\n",
       "      <td>0.0</td>\n",
       "      <td>0.0</td>\n",
       "      <td>1.0</td>\n",
       "      <td>0.0</td>\n",
       "      <td>0.0</td>\n",
       "      <td>0.0</td>\n",
       "      <td>0.0</td>\n",
       "      <td>0.0</td>\n",
       "      <td>0.0</td>\n",
       "      <td>0.0</td>\n",
       "      <td>0.0</td>\n",
       "    </tr>\n",
       "    <tr>\n",
       "      <th>2</th>\n",
       "      <td>1.0</td>\n",
       "      <td>0.0</td>\n",
       "      <td>0.0</td>\n",
       "      <td>0.0</td>\n",
       "      <td>0.0</td>\n",
       "      <td>0.0</td>\n",
       "      <td>0.0</td>\n",
       "      <td>1.0</td>\n",
       "      <td>0.0</td>\n",
       "      <td>0.0</td>\n",
       "      <td>0.0</td>\n",
       "      <td>0.0</td>\n",
       "    </tr>\n",
       "    <tr>\n",
       "      <th>3</th>\n",
       "      <td>1.0</td>\n",
       "      <td>0.0</td>\n",
       "      <td>0.0</td>\n",
       "      <td>0.0</td>\n",
       "      <td>0.0</td>\n",
       "      <td>0.0</td>\n",
       "      <td>0.0</td>\n",
       "      <td>0.0</td>\n",
       "      <td>0.0</td>\n",
       "      <td>0.0</td>\n",
       "      <td>0.0</td>\n",
       "      <td>0.0</td>\n",
       "    </tr>\n",
       "    <tr>\n",
       "      <th>4</th>\n",
       "      <td>1.0</td>\n",
       "      <td>0.0</td>\n",
       "      <td>0.0</td>\n",
       "      <td>0.0</td>\n",
       "      <td>0.0</td>\n",
       "      <td>0.0</td>\n",
       "      <td>0.0</td>\n",
       "      <td>0.0</td>\n",
       "      <td>1.0</td>\n",
       "      <td>0.0</td>\n",
       "      <td>0.0</td>\n",
       "      <td>0.0</td>\n",
       "    </tr>\n",
       "  </tbody>\n",
       "</table>\n",
       "</div>"
      ],
      "text/plain": [
       "   Intercept  month[T.August]  month[T.December]  month[T.February]  \\\n",
       "0        1.0              0.0                0.0                0.0   \n",
       "1        1.0              0.0                0.0                1.0   \n",
       "2        1.0              0.0                0.0                0.0   \n",
       "3        1.0              0.0                0.0                0.0   \n",
       "4        1.0              0.0                0.0                0.0   \n",
       "\n",
       "   month[T.January]  month[T.July]  month[T.June]  month[T.March]  \\\n",
       "0               1.0            0.0            0.0             0.0   \n",
       "1               0.0            0.0            0.0             0.0   \n",
       "2               0.0            0.0            0.0             1.0   \n",
       "3               0.0            0.0            0.0             0.0   \n",
       "4               0.0            0.0            0.0             0.0   \n",
       "\n",
       "   month[T.May]  month[T.November]  month[T.October]  month[T.September]  \n",
       "0           0.0                0.0               0.0                 0.0  \n",
       "1           0.0                0.0               0.0                 0.0  \n",
       "2           0.0                0.0               0.0                 0.0  \n",
       "3           0.0                0.0               0.0                 0.0  \n",
       "4           1.0                0.0               0.0                 0.0  "
      ]
     },
     "execution_count": 132,
     "metadata": {},
     "output_type": "execute_result"
    }
   ],
   "source": [
    "# Create Categorical Variable\n",
    "month_df=patsy.dmatrix('month',data=weather_df,return_type='dataframe')\n",
    "month_df.head()"
   ]
  },
  {
   "cell_type": "code",
   "execution_count": 133,
   "metadata": {
    "scrolled": false
   },
   "outputs": [
    {
     "data": {
      "text/html": [
       "<div>\n",
       "<style scoped>\n",
       "    .dataframe tbody tr th:only-of-type {\n",
       "        vertical-align: middle;\n",
       "    }\n",
       "\n",
       "    .dataframe tbody tr th {\n",
       "        vertical-align: top;\n",
       "    }\n",
       "\n",
       "    .dataframe thead th {\n",
       "        text-align: right;\n",
       "    }\n",
       "</style>\n",
       "<table border=\"1\" class=\"dataframe\">\n",
       "  <thead>\n",
       "    <tr style=\"text-align: right;\">\n",
       "      <th></th>\n",
       "      <th>year</th>\n",
       "      <th>month</th>\n",
       "      <th>avg_tmp</th>\n",
       "      <th>dew_point</th>\n",
       "      <th>avg_precip</th>\n",
       "      <th>sum_precip</th>\n",
       "      <th>avg_wind</th>\n",
       "      <th>day_humidity</th>\n",
       "      <th>ones</th>\n",
       "      <th>Intercept</th>\n",
       "      <th>...</th>\n",
       "      <th>month[T.December]</th>\n",
       "      <th>month[T.February]</th>\n",
       "      <th>month[T.January]</th>\n",
       "      <th>month[T.July]</th>\n",
       "      <th>month[T.June]</th>\n",
       "      <th>month[T.March]</th>\n",
       "      <th>month[T.May]</th>\n",
       "      <th>month[T.November]</th>\n",
       "      <th>month[T.October]</th>\n",
       "      <th>month[T.September]</th>\n",
       "    </tr>\n",
       "  </thead>\n",
       "  <tbody>\n",
       "    <tr>\n",
       "      <th>0</th>\n",
       "      <td>2010</td>\n",
       "      <td>January</td>\n",
       "      <td>73</td>\n",
       "      <td>64</td>\n",
       "      <td>0.0</td>\n",
       "      <td>0.0</td>\n",
       "      <td>1</td>\n",
       "      <td>63,67,56,64,69,,,80,,73,86,,69,65,67,66,62,71,...</td>\n",
       "      <td>1.0</td>\n",
       "      <td>1.0</td>\n",
       "      <td>...</td>\n",
       "      <td>0.0</td>\n",
       "      <td>0.0</td>\n",
       "      <td>1.0</td>\n",
       "      <td>0.0</td>\n",
       "      <td>0.0</td>\n",
       "      <td>0.0</td>\n",
       "      <td>0.0</td>\n",
       "      <td>0.0</td>\n",
       "      <td>0.0</td>\n",
       "      <td>0.0</td>\n",
       "    </tr>\n",
       "    <tr>\n",
       "      <th>1</th>\n",
       "      <td>2010</td>\n",
       "      <td>February</td>\n",
       "      <td>76</td>\n",
       "      <td>64</td>\n",
       "      <td>0.0</td>\n",
       "      <td>0.0</td>\n",
       "      <td>1</td>\n",
       "      <td>58,62,59,94,,,,70,87,73,60,66,66,68,82,,,,,,67...</td>\n",
       "      <td>1.0</td>\n",
       "      <td>1.0</td>\n",
       "      <td>...</td>\n",
       "      <td>0.0</td>\n",
       "      <td>1.0</td>\n",
       "      <td>0.0</td>\n",
       "      <td>0.0</td>\n",
       "      <td>0.0</td>\n",
       "      <td>0.0</td>\n",
       "      <td>0.0</td>\n",
       "      <td>0.0</td>\n",
       "      <td>0.0</td>\n",
       "      <td>0.0</td>\n",
       "    </tr>\n",
       "    <tr>\n",
       "      <th>2</th>\n",
       "      <td>2010</td>\n",
       "      <td>March</td>\n",
       "      <td>75</td>\n",
       "      <td>65</td>\n",
       "      <td>0.0</td>\n",
       "      <td>0.0</td>\n",
       "      <td>1</td>\n",
       "      <td>,,,76,65,65,62,68,69,,66,64,69,57,60,69,87,78,...</td>\n",
       "      <td>1.0</td>\n",
       "      <td>1.0</td>\n",
       "      <td>...</td>\n",
       "      <td>0.0</td>\n",
       "      <td>0.0</td>\n",
       "      <td>0.0</td>\n",
       "      <td>0.0</td>\n",
       "      <td>0.0</td>\n",
       "      <td>1.0</td>\n",
       "      <td>0.0</td>\n",
       "      <td>0.0</td>\n",
       "      <td>0.0</td>\n",
       "      <td>0.0</td>\n",
       "    </tr>\n",
       "    <tr>\n",
       "      <th>3</th>\n",
       "      <td>2010</td>\n",
       "      <td>April</td>\n",
       "      <td>73</td>\n",
       "      <td>66</td>\n",
       "      <td>0.0</td>\n",
       "      <td>0.0</td>\n",
       "      <td>1</td>\n",
       "      <td>71,71,75,85,83,90,,,,,100,78,65,69,93,77,80,61...</td>\n",
       "      <td>1.0</td>\n",
       "      <td>1.0</td>\n",
       "      <td>...</td>\n",
       "      <td>0.0</td>\n",
       "      <td>0.0</td>\n",
       "      <td>0.0</td>\n",
       "      <td>0.0</td>\n",
       "      <td>0.0</td>\n",
       "      <td>0.0</td>\n",
       "      <td>0.0</td>\n",
       "      <td>0.0</td>\n",
       "      <td>0.0</td>\n",
       "      <td>0.0</td>\n",
       "    </tr>\n",
       "    <tr>\n",
       "      <th>4</th>\n",
       "      <td>2010</td>\n",
       "      <td>May</td>\n",
       "      <td>74</td>\n",
       "      <td>66</td>\n",
       "      <td>0.0</td>\n",
       "      <td>0.0</td>\n",
       "      <td>1</td>\n",
       "      <td>83,76,89,78,75,80,68,77,71,75,75,75,70,80,64,6...</td>\n",
       "      <td>1.0</td>\n",
       "      <td>1.0</td>\n",
       "      <td>...</td>\n",
       "      <td>0.0</td>\n",
       "      <td>0.0</td>\n",
       "      <td>0.0</td>\n",
       "      <td>0.0</td>\n",
       "      <td>0.0</td>\n",
       "      <td>0.0</td>\n",
       "      <td>1.0</td>\n",
       "      <td>0.0</td>\n",
       "      <td>0.0</td>\n",
       "      <td>0.0</td>\n",
       "    </tr>\n",
       "  </tbody>\n",
       "</table>\n",
       "<p>5 rows × 21 columns</p>\n",
       "</div>"
      ],
      "text/plain": [
       "   year     month  avg_tmp  dew_point  avg_precip  sum_precip  avg_wind  \\\n",
       "0  2010   January       73         64         0.0         0.0         1   \n",
       "1  2010  February       76         64         0.0         0.0         1   \n",
       "2  2010     March       75         65         0.0         0.0         1   \n",
       "3  2010     April       73         66         0.0         0.0         1   \n",
       "4  2010       May       74         66         0.0         0.0         1   \n",
       "\n",
       "                                        day_humidity  ones  Intercept  \\\n",
       "0  63,67,56,64,69,,,80,,73,86,,69,65,67,66,62,71,...   1.0        1.0   \n",
       "1  58,62,59,94,,,,70,87,73,60,66,66,68,82,,,,,,67...   1.0        1.0   \n",
       "2  ,,,76,65,65,62,68,69,,66,64,69,57,60,69,87,78,...   1.0        1.0   \n",
       "3  71,71,75,85,83,90,,,,,100,78,65,69,93,77,80,61...   1.0        1.0   \n",
       "4  83,76,89,78,75,80,68,77,71,75,75,75,70,80,64,6...   1.0        1.0   \n",
       "\n",
       "          ...          month[T.December]  month[T.February]  month[T.January]  \\\n",
       "0         ...                        0.0                0.0               1.0   \n",
       "1         ...                        0.0                1.0               0.0   \n",
       "2         ...                        0.0                0.0               0.0   \n",
       "3         ...                        0.0                0.0               0.0   \n",
       "4         ...                        0.0                0.0               0.0   \n",
       "\n",
       "   month[T.July]  month[T.June]  month[T.March]  month[T.May]  \\\n",
       "0            0.0            0.0             0.0           0.0   \n",
       "1            0.0            0.0             0.0           0.0   \n",
       "2            0.0            0.0             1.0           0.0   \n",
       "3            0.0            0.0             0.0           0.0   \n",
       "4            0.0            0.0             0.0           1.0   \n",
       "\n",
       "   month[T.November]  month[T.October]  month[T.September]  \n",
       "0                0.0               0.0                 0.0  \n",
       "1                0.0               0.0                 0.0  \n",
       "2                0.0               0.0                 0.0  \n",
       "3                0.0               0.0                 0.0  \n",
       "4                0.0               0.0                 0.0  \n",
       "\n",
       "[5 rows x 21 columns]"
      ]
     },
     "execution_count": 133,
     "metadata": {},
     "output_type": "execute_result"
    }
   ],
   "source": [
    "weather_df=weather_df.join(month_df)\n",
    "weather_df.head()"
   ]
  },
  {
   "cell_type": "code",
   "execution_count": 134,
   "metadata": {},
   "outputs": [
    {
     "data": {
      "text/plain": [
       "Index(['year', 'month', 'avg_tmp', 'dew_point', 'avg_precip', 'sum_precip',\n",
       "       'avg_wind', 'day_humidity', 'ones', 'Intercept', 'month[T.August]',\n",
       "       'month[T.December]', 'month[T.February]', 'month[T.January]',\n",
       "       'month[T.July]', 'month[T.June]', 'month[T.March]', 'month[T.May]',\n",
       "       'month[T.November]', 'month[T.October]', 'month[T.September]'],\n",
       "      dtype='object')"
      ]
     },
     "execution_count": 134,
     "metadata": {},
     "output_type": "execute_result"
    }
   ],
   "source": [
    "weather_df.columns"
   ]
  },
  {
   "cell_type": "code",
   "execution_count": 137,
   "metadata": {
    "scrolled": false
   },
   "outputs": [
    {
     "data": {
      "text/html": [
       "<table class=\"simpletable\">\n",
       "<caption>OLS Regression Results</caption>\n",
       "<tr>\n",
       "  <th>Dep. Variable:</th>         <td>avg_tmp</td>     <th>  R-squared:         </th> <td>   0.255</td>\n",
       "</tr>\n",
       "<tr>\n",
       "  <th>Model:</th>                   <td>OLS</td>       <th>  Adj. R-squared:    </th> <td>   0.151</td>\n",
       "</tr>\n",
       "<tr>\n",
       "  <th>Method:</th>             <td>Least Squares</td>  <th>  F-statistic:       </th> <td>   2.455</td>\n",
       "</tr>\n",
       "<tr>\n",
       "  <th>Date:</th>             <td>Sat, 28 Apr 2018</td> <th>  Prob (F-statistic):</th>  <td>0.00840</td>\n",
       "</tr>\n",
       "<tr>\n",
       "  <th>Time:</th>                 <td>12:39:33</td>     <th>  Log-Likelihood:    </th> <td> -140.12</td>\n",
       "</tr>\n",
       "<tr>\n",
       "  <th>No. Observations:</th>      <td>    99</td>      <th>  AIC:               </th> <td>   306.2</td>\n",
       "</tr>\n",
       "<tr>\n",
       "  <th>Df Residuals:</th>          <td>    86</td>      <th>  BIC:               </th> <td>   340.0</td>\n",
       "</tr>\n",
       "<tr>\n",
       "  <th>Df Model:</th>              <td>    12</td>      <th>                     </th>     <td> </td>   \n",
       "</tr>\n",
       "<tr>\n",
       "  <th>Covariance Type:</th>      <td>nonrobust</td>    <th>                     </th>     <td> </td>   \n",
       "</tr>\n",
       "</table>\n",
       "<table class=\"simpletable\">\n",
       "<tr>\n",
       "           <td></td>             <th>coef</th>     <th>std err</th>      <th>t</th>      <th>P>|t|</th>  <th>[0.025</th>    <th>0.975]</th>  \n",
       "</tr>\n",
       "<tr>\n",
       "  <th>avg_precip</th>         <td>    2.7463</td> <td>    1.895</td> <td>    1.449</td> <td> 0.151</td> <td>   -1.021</td> <td>    6.513</td>\n",
       "</tr>\n",
       "<tr>\n",
       "  <th>month[T.August]</th>    <td>    0.8001</td> <td>    0.548</td> <td>    1.460</td> <td> 0.148</td> <td>   -0.289</td> <td>    1.890</td>\n",
       "</tr>\n",
       "<tr>\n",
       "  <th>month[T.December]</th>  <td>   -0.6710</td> <td>    0.537</td> <td>   -1.249</td> <td> 0.215</td> <td>   -1.739</td> <td>    0.397</td>\n",
       "</tr>\n",
       "<tr>\n",
       "  <th>month[T.February]</th>  <td>    0.3092</td> <td>    0.523</td> <td>    0.591</td> <td> 0.556</td> <td>   -0.730</td> <td>    1.349</td>\n",
       "</tr>\n",
       "<tr>\n",
       "  <th>month[T.January]</th>   <td>   -0.1548</td> <td>    0.534</td> <td>   -0.290</td> <td> 0.773</td> <td>   -1.216</td> <td>    0.907</td>\n",
       "</tr>\n",
       "<tr>\n",
       "  <th>month[T.July]</th>      <td>    0.2966</td> <td>    0.548</td> <td>    0.542</td> <td> 0.589</td> <td>   -0.792</td> <td>    1.385</td>\n",
       "</tr>\n",
       "<tr>\n",
       "  <th>month[T.June]</th>      <td>   -0.0117</td> <td>    0.540</td> <td>   -0.022</td> <td> 0.983</td> <td>   -1.086</td> <td>    1.062</td>\n",
       "</tr>\n",
       "<tr>\n",
       "  <th>month[T.March]</th>     <td>   -0.0791</td> <td>    0.520</td> <td>   -0.152</td> <td> 0.879</td> <td>   -1.113</td> <td>    0.955</td>\n",
       "</tr>\n",
       "<tr>\n",
       "  <th>month[T.May]</th>       <td>    0.3187</td> <td>    0.537</td> <td>    0.594</td> <td> 0.554</td> <td>   -0.748</td> <td>    1.385</td>\n",
       "</tr>\n",
       "<tr>\n",
       "  <th>month[T.November]</th>  <td>   -1.3819</td> <td>    0.535</td> <td>   -2.585</td> <td> 0.011</td> <td>   -2.445</td> <td>   -0.319</td>\n",
       "</tr>\n",
       "<tr>\n",
       "  <th>month[T.October]</th>   <td>   -1.1456</td> <td>    0.535</td> <td>   -2.142</td> <td> 0.035</td> <td>   -2.209</td> <td>   -0.083</td>\n",
       "</tr>\n",
       "<tr>\n",
       "  <th>month[T.September]</th> <td>    0.1387</td> <td>    0.535</td> <td>    0.259</td> <td> 0.796</td> <td>   -0.924</td> <td>    1.202</td>\n",
       "</tr>\n",
       "<tr>\n",
       "  <th>ones</th>               <td>   72.7391</td> <td>    0.419</td> <td>  173.744</td> <td> 0.000</td> <td>   71.907</td> <td>   73.571</td>\n",
       "</tr>\n",
       "</table>\n",
       "<table class=\"simpletable\">\n",
       "<tr>\n",
       "  <th>Omnibus:</th>       <td> 3.819</td> <th>  Durbin-Watson:     </th> <td>   1.211</td>\n",
       "</tr>\n",
       "<tr>\n",
       "  <th>Prob(Omnibus):</th> <td> 0.148</td> <th>  Jarque-Bera (JB):  </th> <td>   4.345</td>\n",
       "</tr>\n",
       "<tr>\n",
       "  <th>Skew:</th>          <td> 0.089</td> <th>  Prob(JB):          </th> <td>   0.114</td>\n",
       "</tr>\n",
       "<tr>\n",
       "  <th>Kurtosis:</th>      <td> 4.011</td> <th>  Cond. No.          </th> <td>    18.7</td>\n",
       "</tr>\n",
       "</table>"
      ],
      "text/plain": [
       "<class 'statsmodels.iolib.summary.Summary'>\n",
       "\"\"\"\n",
       "                            OLS Regression Results                            \n",
       "==============================================================================\n",
       "Dep. Variable:                avg_tmp   R-squared:                       0.255\n",
       "Model:                            OLS   Adj. R-squared:                  0.151\n",
       "Method:                 Least Squares   F-statistic:                     2.455\n",
       "Date:                Sat, 28 Apr 2018   Prob (F-statistic):            0.00840\n",
       "Time:                        12:39:33   Log-Likelihood:                -140.12\n",
       "No. Observations:                  99   AIC:                             306.2\n",
       "Df Residuals:                      86   BIC:                             340.0\n",
       "Df Model:                          12                                         \n",
       "Covariance Type:            nonrobust                                         \n",
       "======================================================================================\n",
       "                         coef    std err          t      P>|t|      [0.025      0.975]\n",
       "--------------------------------------------------------------------------------------\n",
       "avg_precip             2.7463      1.895      1.449      0.151      -1.021       6.513\n",
       "month[T.August]        0.8001      0.548      1.460      0.148      -0.289       1.890\n",
       "month[T.December]     -0.6710      0.537     -1.249      0.215      -1.739       0.397\n",
       "month[T.February]      0.3092      0.523      0.591      0.556      -0.730       1.349\n",
       "month[T.January]      -0.1548      0.534     -0.290      0.773      -1.216       0.907\n",
       "month[T.July]          0.2966      0.548      0.542      0.589      -0.792       1.385\n",
       "month[T.June]         -0.0117      0.540     -0.022      0.983      -1.086       1.062\n",
       "month[T.March]        -0.0791      0.520     -0.152      0.879      -1.113       0.955\n",
       "month[T.May]           0.3187      0.537      0.594      0.554      -0.748       1.385\n",
       "month[T.November]     -1.3819      0.535     -2.585      0.011      -2.445      -0.319\n",
       "month[T.October]      -1.1456      0.535     -2.142      0.035      -2.209      -0.083\n",
       "month[T.September]     0.1387      0.535      0.259      0.796      -0.924       1.202\n",
       "ones                  72.7391      0.419    173.744      0.000      71.907      73.571\n",
       "==============================================================================\n",
       "Omnibus:                        3.819   Durbin-Watson:                   1.211\n",
       "Prob(Omnibus):                  0.148   Jarque-Bera (JB):                4.345\n",
       "Skew:                           0.089   Prob(JB):                        0.114\n",
       "Kurtosis:                       4.011   Cond. No.                         18.7\n",
       "==============================================================================\n",
       "\n",
       "Warnings:\n",
       "[1] Standard Errors assume that the covariance matrix of the errors is correctly specified.\n",
       "\"\"\""
      ]
     },
     "execution_count": 137,
     "metadata": {},
     "output_type": "execute_result"
    }
   ],
   "source": [
    "#Now use also one predictor categorical variable: Month\n",
    "x = weather_df[['avg_precip', 'month[T.August]',\n",
    "       'month[T.December]', 'month[T.February]', 'month[T.January]',\n",
    "       'month[T.July]', 'month[T.June]', 'month[T.March]', 'month[T.May]',\n",
    "       'month[T.November]', 'month[T.October]', 'month[T.September]', 'ones']]\n",
    "\n",
    "#Build Linear Model only on this variable\n",
    "model = sm.OLS(y, x)\n",
    "fit = model.fit()\n",
    "fit.summary()"
   ]
  },
  {
   "cell_type": "code",
   "execution_count": 138,
   "metadata": {},
   "outputs": [
    {
     "data": {
      "text/plain": [
       "array([72.58427908, 73.04829286, 72.66003447, 72.73910596, 73.05776229,\n",
       "       72.7273889 , 73.03574678, 73.53917959, 72.87783723, 71.59350906,\n",
       "       71.35724033, 72.06806074, 72.58427908, 73.04829286, 72.66003447,\n",
       "       72.73910596, 73.05776229, 72.7273889 , 73.03574678, 73.53917959,\n",
       "       72.87783723, 71.59350906, 71.35724033, 72.06806074, 72.58427908,\n",
       "       73.04829286, 72.66003447, 73.12358139, 73.22253747, 72.97455167,\n",
       "       73.25544702, 73.64902971, 73.07007494, 72.00544702, 71.87902841,\n",
       "       72.45253616, 72.63920414, 73.37784323, 72.90719724, 73.0411938 ,\n",
       "       73.25      , 72.91962661, 73.11813437, 73.78634237, 73.125     ,\n",
       "       71.95052196, 71.76917828, 72.34268604, 72.80397932, 73.43276829,\n",
       "       73.15436001, 73.15104392, 73.27746253, 72.89216408, 73.06320931,\n",
       "       73.62156718, 73.15246253, 71.92305943, 71.52201551, 72.23283592,\n",
       "       72.77651679, 73.18560552, 73.20928508, 73.17850645, 73.25      ,\n",
       "       72.75485143, 73.17305943, 73.62156718, 73.64678808, 72.03290955,\n",
       "       71.57694057, 72.1229858 , 72.6941292 , 73.46023082, 72.93465977,\n",
       "       72.9588062 , 73.5246253 , 72.86470155, 73.1455969 , 73.67649224,\n",
       "       73.15246253, 72.11529714, 71.85156587, 72.47999869, 72.74905426,\n",
       "       73.10321792, 72.93465977, 73.06865633, 73.35985012, 73.13932685,\n",
       "       73.17305943, 73.56664212, 73.09753747, 71.78574678, 71.68679069,\n",
       "       72.23283592, 72.58427908, 73.29545564, 72.87973471])"
      ]
     },
     "execution_count": 138,
     "metadata": {},
     "output_type": "execute_result"
    }
   ],
   "source": [
    "lr = linear_model.LinearRegression()\n",
    "lr.fit(x, y)\n",
    "y_pred = lr.predict(x)\n",
    "y_pred"
   ]
  },
  {
   "cell_type": "code",
   "execution_count": 140,
   "metadata": {
    "scrolled": true
   },
   "outputs": [
    {
     "name": "stdout",
     "output_type": "stream",
     "text": [
      "Populating the interactive namespace from numpy and matplotlib\n"
     ]
    },
    {
     "data": {
      "text/plain": [
       "Text(0,0.5,'Residual')"
      ]
     },
     "execution_count": 140,
     "metadata": {},
     "output_type": "execute_result"
    },
    {
     "data": {
      "image/png": "[encoded data removed]",
      "text/plain": [
       "<matplotlib.figure.Figure at 0x1c20e3f908>"
      ]
     },
     "metadata": {},
     "output_type": "display_data"
    }
   ],
   "source": [
    "%pylab inline\n",
    "\n",
    "plt.figure(figsize=(10,5))\n",
    "fit.resid.hist(figsize=(10,6), color='xkcd:mustard')\n",
    "\n",
    "plt.title('Residual Distribution of Temperature based on Avg Temperature and Month', fontsize=15)\n",
    "plt.ylabel('Residual', fontsize=12)"
   ]
  },
  {
   "cell_type": "markdown",
   "metadata": {},
   "source": [
    "> R2 it's getting better, and residual distributions looks more Normal everytime!"
   ]
  },
  {
   "cell_type": "markdown",
   "metadata": {},
   "source": [
    "**Challenge 4**\n",
    "\n",
    "Enhance your model further by adding more features and/or transforming existing features. Think about how you build the model matrix and how to interpret what the model is doing."
   ]
  },
  {
   "cell_type": "code",
   "execution_count": 147,
   "metadata": {},
   "outputs": [
    {
     "data": {
      "text/plain": [
       "Index(['year', 'month', 'avg_tmp', 'dew_point', 'avg_precip', 'sum_precip',\n",
       "       'avg_wind', 'day_humidity', 'ones', 'Intercept', 'month[T.August]',\n",
       "       'month[T.December]', 'month[T.February]', 'month[T.January]',\n",
       "       'month[T.July]', 'month[T.June]', 'month[T.March]', 'month[T.May]',\n",
       "       'month[T.November]', 'month[T.October]', 'month[T.September]'],\n",
       "      dtype='object')"
      ]
     },
     "execution_count": 147,
     "metadata": {},
     "output_type": "execute_result"
    }
   ],
   "source": [
    "weather_df.columns"
   ]
  },
  {
   "cell_type": "code",
   "execution_count": 150,
   "metadata": {},
   "outputs": [
    {
     "data": {
      "text/html": [
       "<table class=\"simpletable\">\n",
       "<caption>OLS Regression Results</caption>\n",
       "<tr>\n",
       "  <th>Dep. Variable:</th>         <td>avg_tmp</td>     <th>  R-squared:         </th> <td>   0.269</td>\n",
       "</tr>\n",
       "<tr>\n",
       "  <th>Model:</th>                   <td>OLS</td>       <th>  Adj. R-squared:    </th> <td>   0.147</td>\n",
       "</tr>\n",
       "<tr>\n",
       "  <th>Method:</th>             <td>Least Squares</td>  <th>  F-statistic:       </th> <td>   2.206</td>\n",
       "</tr>\n",
       "<tr>\n",
       "  <th>Date:</th>             <td>Sat, 28 Apr 2018</td> <th>  Prob (F-statistic):</th>  <td>0.0138</td> \n",
       "</tr>\n",
       "<tr>\n",
       "  <th>Time:</th>                 <td>12:40:35</td>     <th>  Log-Likelihood:    </th> <td> -139.20</td>\n",
       "</tr>\n",
       "<tr>\n",
       "  <th>No. Observations:</th>      <td>    99</td>      <th>  AIC:               </th> <td>   308.4</td>\n",
       "</tr>\n",
       "<tr>\n",
       "  <th>Df Residuals:</th>          <td>    84</td>      <th>  BIC:               </th> <td>   347.3</td>\n",
       "</tr>\n",
       "<tr>\n",
       "  <th>Df Model:</th>              <td>    14</td>      <th>                     </th>     <td> </td>   \n",
       "</tr>\n",
       "<tr>\n",
       "  <th>Covariance Type:</th>      <td>nonrobust</td>    <th>                     </th>     <td> </td>   \n",
       "</tr>\n",
       "</table>\n",
       "<table class=\"simpletable\">\n",
       "<tr>\n",
       "           <td></td>             <th>coef</th>     <th>std err</th>      <th>t</th>      <th>P>|t|</th>  <th>[0.025</th>    <th>0.975]</th>  \n",
       "</tr>\n",
       "<tr>\n",
       "  <th>avg_precip</th>         <td>    2.6648</td> <td>    1.908</td> <td>    1.397</td> <td> 0.166</td> <td>   -1.129</td> <td>    6.459</td>\n",
       "</tr>\n",
       "<tr>\n",
       "  <th>dew_point</th>          <td>    0.0173</td> <td>    0.140</td> <td>    0.124</td> <td> 0.902</td> <td>   -0.261</td> <td>    0.295</td>\n",
       "</tr>\n",
       "<tr>\n",
       "  <th>avg_wind</th>           <td>    0.2483</td> <td>    0.202</td> <td>    1.231</td> <td> 0.222</td> <td>   -0.153</td> <td>    0.649</td>\n",
       "</tr>\n",
       "<tr>\n",
       "  <th>month[T.August]</th>    <td>    0.7545</td> <td>    0.577</td> <td>    1.307</td> <td> 0.195</td> <td>   -0.393</td> <td>    1.902</td>\n",
       "</tr>\n",
       "<tr>\n",
       "  <th>month[T.December]</th>  <td>   -0.5673</td> <td>    0.552</td> <td>   -1.029</td> <td> 0.307</td> <td>   -1.664</td> <td>    0.529</td>\n",
       "</tr>\n",
       "<tr>\n",
       "  <th>month[T.February]</th>  <td>    0.4006</td> <td>    0.539</td> <td>    0.744</td> <td> 0.459</td> <td>   -0.671</td> <td>    1.472</td>\n",
       "</tr>\n",
       "<tr>\n",
       "  <th>month[T.January]</th>   <td>   -0.0623</td> <td>    0.555</td> <td>   -0.112</td> <td> 0.911</td> <td>   -1.165</td> <td>    1.041</td>\n",
       "</tr>\n",
       "<tr>\n",
       "  <th>month[T.July]</th>      <td>    0.4085</td> <td>    0.580</td> <td>    0.704</td> <td> 0.483</td> <td>   -0.746</td> <td>    1.563</td>\n",
       "</tr>\n",
       "<tr>\n",
       "  <th>month[T.June]</th>      <td>    0.1134</td> <td>    0.551</td> <td>    0.206</td> <td> 0.837</td> <td>   -0.982</td> <td>    1.209</td>\n",
       "</tr>\n",
       "<tr>\n",
       "  <th>month[T.March]</th>     <td>    0.0101</td> <td>    0.531</td> <td>    0.019</td> <td> 0.985</td> <td>   -1.046</td> <td>    1.066</td>\n",
       "</tr>\n",
       "<tr>\n",
       "  <th>month[T.May]</th>       <td>    0.4054</td> <td>    0.545</td> <td>    0.744</td> <td> 0.459</td> <td>   -0.678</td> <td>    1.489</td>\n",
       "</tr>\n",
       "<tr>\n",
       "  <th>month[T.November]</th>  <td>   -1.3376</td> <td>    0.546</td> <td>   -2.449</td> <td> 0.016</td> <td>   -2.424</td> <td>   -0.251</td>\n",
       "</tr>\n",
       "<tr>\n",
       "  <th>month[T.October]</th>   <td>   -1.0699</td> <td>    0.548</td> <td>   -1.953</td> <td> 0.054</td> <td>   -2.159</td> <td>    0.020</td>\n",
       "</tr>\n",
       "<tr>\n",
       "  <th>month[T.September]</th> <td>    0.1621</td> <td>    0.569</td> <td>    0.285</td> <td> 0.776</td> <td>   -0.969</td> <td>    1.294</td>\n",
       "</tr>\n",
       "<tr>\n",
       "  <th>ones</th>               <td>   71.1453</td> <td>    9.133</td> <td>    7.790</td> <td> 0.000</td> <td>   52.984</td> <td>   89.307</td>\n",
       "</tr>\n",
       "</table>\n",
       "<table class=\"simpletable\">\n",
       "<tr>\n",
       "  <th>Omnibus:</th>       <td> 5.130</td> <th>  Durbin-Watson:     </th> <td>   1.199</td>\n",
       "</tr>\n",
       "<tr>\n",
       "  <th>Prob(Omnibus):</th> <td> 0.077</td> <th>  Jarque-Bera (JB):  </th> <td>   7.083</td>\n",
       "</tr>\n",
       "<tr>\n",
       "  <th>Skew:</th>          <td> 0.104</td> <th>  Prob(JB):          </th> <td>  0.0290</td>\n",
       "</tr>\n",
       "<tr>\n",
       "  <th>Kurtosis:</th>      <td> 4.294</td> <th>  Cond. No.          </th> <td>5.51e+03</td>\n",
       "</tr>\n",
       "</table>"
      ],
      "text/plain": [
       "<class 'statsmodels.iolib.summary.Summary'>\n",
       "\"\"\"\n",
       "                            OLS Regression Results                            \n",
       "==============================================================================\n",
       "Dep. Variable:                avg_tmp   R-squared:                       0.269\n",
       "Model:                            OLS   Adj. R-squared:                  0.147\n",
       "Method:                 Least Squares   F-statistic:                     2.206\n",
       "Date:                Sat, 28 Apr 2018   Prob (F-statistic):             0.0138\n",
       "Time:                        12:40:35   Log-Likelihood:                -139.20\n",
       "No. Observations:                  99   AIC:                             308.4\n",
       "Df Residuals:                      84   BIC:                             347.3\n",
       "Df Model:                          14                                         \n",
       "Covariance Type:            nonrobust                                         \n",
       "======================================================================================\n",
       "                         coef    std err          t      P>|t|      [0.025      0.975]\n",
       "--------------------------------------------------------------------------------------\n",
       "avg_precip             2.6648      1.908      1.397      0.166      -1.129       6.459\n",
       "dew_point              0.0173      0.140      0.124      0.902      -0.261       0.295\n",
       "avg_wind               0.2483      0.202      1.231      0.222      -0.153       0.649\n",
       "month[T.August]        0.7545      0.577      1.307      0.195      -0.393       1.902\n",
       "month[T.December]     -0.5673      0.552     -1.029      0.307      -1.664       0.529\n",
       "month[T.February]      0.4006      0.539      0.744      0.459      -0.671       1.472\n",
       "month[T.January]      -0.0623      0.555     -0.112      0.911      -1.165       1.041\n",
       "month[T.July]          0.4085      0.580      0.704      0.483      -0.746       1.563\n",
       "month[T.June]          0.1134      0.551      0.206      0.837      -0.982       1.209\n",
       "month[T.March]         0.0101      0.531      0.019      0.985      -1.046       1.066\n",
       "month[T.May]           0.4054      0.545      0.744      0.459      -0.678       1.489\n",
       "month[T.November]     -1.3376      0.546     -2.449      0.016      -2.424      -0.251\n",
       "month[T.October]      -1.0699      0.548     -1.953      0.054      -2.159       0.020\n",
       "month[T.September]     0.1621      0.569      0.285      0.776      -0.969       1.294\n",
       "ones                  71.1453      9.133      7.790      0.000      52.984      89.307\n",
       "==============================================================================\n",
       "Omnibus:                        5.130   Durbin-Watson:                   1.199\n",
       "Prob(Omnibus):                  0.077   Jarque-Bera (JB):                7.083\n",
       "Skew:                           0.104   Prob(JB):                       0.0290\n",
       "Kurtosis:                       4.294   Cond. No.                     5.51e+03\n",
       "==============================================================================\n",
       "\n",
       "Warnings:\n",
       "[1] Standard Errors assume that the covariance matrix of the errors is correctly specified.\n",
       "[2] The condition number is large, 5.51e+03. This might indicate that there are\n",
       "strong multicollinearity or other numerical problems.\n",
       "\"\"\""
      ]
     },
     "execution_count": 150,
     "metadata": {},
     "output_type": "execute_result"
    }
   ],
   "source": [
    "#Now use all variables available un the model!\n",
    "x = weather_df[['avg_precip', 'dew_point', 'avg_wind', 'month[T.August]',\n",
    "       'month[T.December]', 'month[T.February]', 'month[T.January]',\n",
    "       'month[T.July]', 'month[T.June]', 'month[T.March]', 'month[T.May]',\n",
    "       'month[T.November]', 'month[T.October]', 'month[T.September]', 'ones']]\n",
    "\n",
    "#Build Linear Model only on this variable\n",
    "model = sm.OLS(y, x)\n",
    "fit = model.fit()\n",
    "fit.summary()"
   ]
  },
  {
   "cell_type": "code",
   "execution_count": 151,
   "metadata": {},
   "outputs": [
    {
     "data": {
      "text/plain": [
       "array([72.43917576, 72.90205731, 72.52889149, 72.53609516, 72.94149025,\n",
       "       72.38389936, 72.90992935, 73.52150953, 72.91187303, 71.69712255,\n",
       "       71.67768545, 71.95148331, 72.6874487 , 73.15033025, 72.75985379,\n",
       "       72.76705746, 73.18976318, 72.89775588, 72.92723999, 73.52150953,\n",
       "       72.91187303, 71.43153897, 71.41210187, 71.95148331, 72.4564864 ,\n",
       "       72.91936795, 72.52889149, 72.89185875, 73.08406856, 72.87200574,\n",
       "       73.12311463, 73.61079153, 73.0810995 , 71.83126136, 71.6874546 ,\n",
       "       72.3072469 , 72.49247208, 73.23914586, 72.76872492, 73.06018721,\n",
       "       73.11071672, 72.81870942, 72.97256319, 73.74403233, 72.90343352,\n",
       "       71.77796504, 71.81182426, 72.4489272 , 72.90063397, 73.27513154,\n",
       "       73.50510423, 73.16677984, 73.38563782, 73.0403342 , 73.18485045,\n",
       "       73.83241631, 73.17835462, 72.01690046, 71.58930147, 72.3596452 ,\n",
       "       72.89129645, 73.30088168, 73.31012761, 73.21073864, 73.3763003 ,\n",
       "       72.88978276, 73.29144309, 73.58414337, 73.65802148, 72.1234931 ,\n",
       "       71.64259779, 72.25305256, 72.81135197, 73.56736327, 72.81268371,\n",
       "       73.26313694, 73.66009253, 73.03099668, 73.28210557, 73.63743969,\n",
       "       73.19566525, 72.20343757, 71.66080644, 72.35120569, 72.84733765,\n",
       "       73.18631593, 72.79537308, 73.104146  , 73.25193063, 73.06651597,\n",
       "       73.30875373, 73.54815769, 73.15967957, 71.91828094, 71.51822812,\n",
       "       72.37695584, 72.47379703, 73.45940623, 72.9903497 ])"
      ]
     },
     "execution_count": 151,
     "metadata": {},
     "output_type": "execute_result"
    }
   ],
   "source": [
    "lr = linear_model.LinearRegression()\n",
    "lr.fit(x, y)\n",
    "y_pred = lr.predict(x)\n",
    "y_pred"
   ]
  },
  {
   "cell_type": "code",
   "execution_count": 152,
   "metadata": {
    "scrolled": true
   },
   "outputs": [
    {
     "name": "stdout",
     "output_type": "stream",
     "text": [
      "Populating the interactive namespace from numpy and matplotlib\n"
     ]
    },
    {
     "data": {
      "text/plain": [
       "Text(0,0.5,'Residual')"
      ]
     },
     "execution_count": 152,
     "metadata": {},
     "output_type": "execute_result"
    },
    {
     "data": {
      "image/png": "[encoded data removed]",
      "text/plain": [
       "<matplotlib.figure.Figure at 0x1c20e3f780>"
      ]
     },
     "metadata": {},
     "output_type": "display_data"
    }
   ],
   "source": [
    "%pylab inline\n",
    "\n",
    "plt.figure(figsize=(10,5))\n",
    "fit.resid.hist(figsize=(10,6), color='xkcd:mustard')\n",
    "\n",
    "plt.title('Residual Distribution of Temperature', fontsize=15)\n",
    "plt.ylabel('Residual', fontsize=12)"
   ]
  },
  {
   "cell_type": "markdown",
   "metadata": {},
   "source": [
    "> R2 it's getting better, and residual distributions looks more Normal everytime!"
   ]
  },
  {
   "cell_type": "markdown",
   "metadata": {},
   "source": [
    "**Challenge 5**\n",
    "\n",
    "Fitting and checking predictions on the exact same data set can be misleading. Divide your data into two sets: a training and a test set (roughly 75% training, 25% test is a fine split). Fit a model on the training set, check the predictions (by plotting versus actual values) in the test set."
   ]
  },
  {
   "cell_type": "code",
   "execution_count": 158,
   "metadata": {
    "scrolled": true
   },
   "outputs": [
    {
     "data": {
      "text/html": [
       "<table class=\"simpletable\">\n",
       "<caption>OLS Regression Results</caption>\n",
       "<tr>\n",
       "  <th>Dep. Variable:</th>         <td>avg_tmp</td>     <th>  R-squared:         </th> <td>   0.345</td>\n",
       "</tr>\n",
       "<tr>\n",
       "  <th>Model:</th>                   <td>OLS</td>       <th>  Adj. R-squared:    </th> <td>   0.189</td>\n",
       "</tr>\n",
       "<tr>\n",
       "  <th>Method:</th>             <td>Least Squares</td>  <th>  F-statistic:       </th> <td>   2.217</td>\n",
       "</tr>\n",
       "<tr>\n",
       "  <th>Date:</th>             <td>Sat, 28 Apr 2018</td> <th>  Prob (F-statistic):</th>  <td>0.0174</td> \n",
       "</tr>\n",
       "<tr>\n",
       "  <th>Time:</th>                 <td>12:41:04</td>     <th>  Log-Likelihood:    </th> <td> -102.68</td>\n",
       "</tr>\n",
       "<tr>\n",
       "  <th>No. Observations:</th>      <td>    74</td>      <th>  AIC:               </th> <td>   235.4</td>\n",
       "</tr>\n",
       "<tr>\n",
       "  <th>Df Residuals:</th>          <td>    59</td>      <th>  BIC:               </th> <td>   269.9</td>\n",
       "</tr>\n",
       "<tr>\n",
       "  <th>Df Model:</th>              <td>    14</td>      <th>                     </th>     <td> </td>   \n",
       "</tr>\n",
       "<tr>\n",
       "  <th>Covariance Type:</th>      <td>nonrobust</td>    <th>                     </th>     <td> </td>   \n",
       "</tr>\n",
       "</table>\n",
       "<table class=\"simpletable\">\n",
       "<tr>\n",
       "           <td></td>             <th>coef</th>     <th>std err</th>      <th>t</th>      <th>P>|t|</th>  <th>[0.025</th>    <th>0.975]</th>  \n",
       "</tr>\n",
       "<tr>\n",
       "  <th>avg_precip</th>         <td>    4.0282</td> <td>    2.272</td> <td>    1.773</td> <td> 0.081</td> <td>   -0.518</td> <td>    8.574</td>\n",
       "</tr>\n",
       "<tr>\n",
       "  <th>dew_point</th>          <td>   -0.0961</td> <td>    0.173</td> <td>   -0.557</td> <td> 0.580</td> <td>   -0.441</td> <td>    0.249</td>\n",
       "</tr>\n",
       "<tr>\n",
       "  <th>avg_wind</th>           <td>    0.3613</td> <td>    0.265</td> <td>    1.363</td> <td> 0.178</td> <td>   -0.169</td> <td>    0.892</td>\n",
       "</tr>\n",
       "<tr>\n",
       "  <th>month[T.August]</th>    <td>    0.9958</td> <td>    0.683</td> <td>    1.458</td> <td> 0.150</td> <td>   -0.371</td> <td>    2.363</td>\n",
       "</tr>\n",
       "<tr>\n",
       "  <th>month[T.December]</th>  <td>   -0.3923</td> <td>    0.629</td> <td>   -0.623</td> <td> 0.535</td> <td>   -1.651</td> <td>    0.867</td>\n",
       "</tr>\n",
       "<tr>\n",
       "  <th>month[T.February]</th>  <td>    0.6644</td> <td>    0.593</td> <td>    1.121</td> <td> 0.267</td> <td>   -0.522</td> <td>    1.851</td>\n",
       "</tr>\n",
       "<tr>\n",
       "  <th>month[T.January]</th>   <td>    0.0461</td> <td>    0.606</td> <td>    0.076</td> <td> 0.940</td> <td>   -1.167</td> <td>    1.259</td>\n",
       "</tr>\n",
       "<tr>\n",
       "  <th>month[T.July]</th>      <td>    1.1373</td> <td>    0.701</td> <td>    1.621</td> <td> 0.110</td> <td>   -0.266</td> <td>    2.541</td>\n",
       "</tr>\n",
       "<tr>\n",
       "  <th>month[T.June]</th>      <td>    0.1588</td> <td>    0.663</td> <td>    0.240</td> <td> 0.811</td> <td>   -1.167</td> <td>    1.485</td>\n",
       "</tr>\n",
       "<tr>\n",
       "  <th>month[T.March]</th>     <td>    0.0121</td> <td>    0.646</td> <td>    0.019</td> <td> 0.985</td> <td>   -1.280</td> <td>    1.304</td>\n",
       "</tr>\n",
       "<tr>\n",
       "  <th>month[T.May]</th>       <td>    0.7775</td> <td>    0.648</td> <td>    1.200</td> <td> 0.235</td> <td>   -0.519</td> <td>    2.074</td>\n",
       "</tr>\n",
       "<tr>\n",
       "  <th>month[T.November]</th>  <td>   -1.3918</td> <td>    0.591</td> <td>   -2.353</td> <td> 0.022</td> <td>   -2.575</td> <td>   -0.208</td>\n",
       "</tr>\n",
       "<tr>\n",
       "  <th>month[T.October]</th>   <td>   -1.0327</td> <td>    0.628</td> <td>   -1.644</td> <td> 0.105</td> <td>   -2.289</td> <td>    0.224</td>\n",
       "</tr>\n",
       "<tr>\n",
       "  <th>month[T.September]</th> <td>    0.0769</td> <td>    0.719</td> <td>    0.107</td> <td> 0.915</td> <td>   -1.362</td> <td>    1.515</td>\n",
       "</tr>\n",
       "<tr>\n",
       "  <th>ones</th>               <td>   78.1431</td> <td>   11.227</td> <td>    6.960</td> <td> 0.000</td> <td>   55.678</td> <td>  100.608</td>\n",
       "</tr>\n",
       "</table>\n",
       "<table class=\"simpletable\">\n",
       "<tr>\n",
       "  <th>Omnibus:</th>       <td> 6.073</td> <th>  Durbin-Watson:     </th> <td>   1.808</td>\n",
       "</tr>\n",
       "<tr>\n",
       "  <th>Prob(Omnibus):</th> <td> 0.048</td> <th>  Jarque-Bera (JB):  </th> <td>   6.688</td>\n",
       "</tr>\n",
       "<tr>\n",
       "  <th>Skew:</th>          <td> 0.372</td> <th>  Prob(JB):          </th> <td>  0.0353</td>\n",
       "</tr>\n",
       "<tr>\n",
       "  <th>Kurtosis:</th>      <td> 4.271</td> <th>  Cond. No.          </th> <td>5.79e+03</td>\n",
       "</tr>\n",
       "</table>"
      ],
      "text/plain": [
       "<class 'statsmodels.iolib.summary.Summary'>\n",
       "\"\"\"\n",
       "                            OLS Regression Results                            \n",
       "==============================================================================\n",
       "Dep. Variable:                avg_tmp   R-squared:                       0.345\n",
       "Model:                            OLS   Adj. R-squared:                  0.189\n",
       "Method:                 Least Squares   F-statistic:                     2.217\n",
       "Date:                Sat, 28 Apr 2018   Prob (F-statistic):             0.0174\n",
       "Time:                        12:41:04   Log-Likelihood:                -102.68\n",
       "No. Observations:                  74   AIC:                             235.4\n",
       "Df Residuals:                      59   BIC:                             269.9\n",
       "Df Model:                          14                                         \n",
       "Covariance Type:            nonrobust                                         \n",
       "======================================================================================\n",
       "                         coef    std err          t      P>|t|      [0.025      0.975]\n",
       "--------------------------------------------------------------------------------------\n",
       "avg_precip             4.0282      2.272      1.773      0.081      -0.518       8.574\n",
       "dew_point             -0.0961      0.173     -0.557      0.580      -0.441       0.249\n",
       "avg_wind               0.3613      0.265      1.363      0.178      -0.169       0.892\n",
       "month[T.August]        0.9958      0.683      1.458      0.150      -0.371       2.363\n",
       "month[T.December]     -0.3923      0.629     -0.623      0.535      -1.651       0.867\n",
       "month[T.February]      0.6644      0.593      1.121      0.267      -0.522       1.851\n",
       "month[T.January]       0.0461      0.606      0.076      0.940      -1.167       1.259\n",
       "month[T.July]          1.1373      0.701      1.621      0.110      -0.266       2.541\n",
       "month[T.June]          0.1588      0.663      0.240      0.811      -1.167       1.485\n",
       "month[T.March]         0.0121      0.646      0.019      0.985      -1.280       1.304\n",
       "month[T.May]           0.7775      0.648      1.200      0.235      -0.519       2.074\n",
       "month[T.November]     -1.3918      0.591     -2.353      0.022      -2.575      -0.208\n",
       "month[T.October]      -1.0327      0.628     -1.644      0.105      -2.289       0.224\n",
       "month[T.September]     0.0769      0.719      0.107      0.915      -1.362       1.515\n",
       "ones                  78.1431     11.227      6.960      0.000      55.678     100.608\n",
       "==============================================================================\n",
       "Omnibus:                        6.073   Durbin-Watson:                   1.808\n",
       "Prob(Omnibus):                  0.048   Jarque-Bera (JB):                6.688\n",
       "Skew:                           0.372   Prob(JB):                       0.0353\n",
       "Kurtosis:                       4.271   Cond. No.                     5.79e+03\n",
       "==============================================================================\n",
       "\n",
       "Warnings:\n",
       "[1] Standard Errors assume that the covariance matrix of the errors is correctly specified.\n",
       "[2] The condition number is large, 5.79e+03. This might indicate that there are\n",
       "strong multicollinearity or other numerical problems.\n",
       "\"\"\""
      ]
     },
     "execution_count": 158,
     "metadata": {},
     "output_type": "execute_result"
    }
   ],
   "source": [
    "x_train, x_test, y_train, y_test = model_selection.train_test_split(x, y, test_size=0.25)\n",
    "\n",
    "model = sm.OLS(y_train, x_train)\n",
    "fit = model.fit()\n",
    "fit.summary()"
   ]
  },
  {
   "cell_type": "code",
   "execution_count": 159,
   "metadata": {},
   "outputs": [
    {
     "data": {
      "text/plain": [
       "array([73.58070166, 73.81188305, 71.67460148, 71.86396895, 73.91597713,\n",
       "       72.57505642, 72.0536976 , 72.95196886, 73.48962512, 72.9206489 ,\n",
       "       73.91095881, 71.31965662, 73.71735621, 72.88168184, 73.58094703,\n",
       "       72.91280675, 72.72426828, 71.3219391 , 73.71614126, 72.79064484,\n",
       "       73.65370291, 74.19174431, 73.16874747, 72.79183503, 72.16010271])"
      ]
     },
     "execution_count": 159,
     "metadata": {},
     "output_type": "execute_result"
    }
   ],
   "source": [
    "lr = linear_model.LinearRegression()\n",
    "lr.fit(x_train, y_train)\n",
    "y_pred = lr.predict(x_test)\n",
    "y_pred"
   ]
  },
  {
   "cell_type": "code",
   "execution_count": 160,
   "metadata": {},
   "outputs": [
    {
     "name": "stdout",
     "output_type": "stream",
     "text": [
      "Populating the interactive namespace from numpy and matplotlib\n"
     ]
    },
    {
     "data": {
      "text/plain": [
       "<matplotlib.legend.Legend at 0x1c2142acf8>"
      ]
     },
     "execution_count": 160,
     "metadata": {},
     "output_type": "execute_result"
    },
    {
     "data": {
      "image/png": "[encoded data removed]",
      "text/plain": [
       "<matplotlib.figure.Figure at 0x1c20b9d1d0>"
      ]
     },
     "metadata": {},
     "output_type": "display_data"
    }
   ],
   "source": [
    "%pylab inline\n",
    "\n",
    "plt.figure(figsize=(10,5))\n",
    "plt.scatter(x_test['avg_precip'], y_test, label='Real', color='xkcd:baby blue')\n",
    "plt.scatter(x_test['avg_precip'], y_pred, label='Predicted', color='red', marker='x')\n",
    "\n",
    "plt.title('Real vs Predicted validation', fontsize=15)\n",
    "plt.xlabel('Avg Precipitations', fontsize=12)\n",
    "plt.ylabel('Avg Temperature (F)', fontsize=12)\n",
    "plt.grid()\n",
    "plt.legend()\n"
   ]
  }
 ],
 "metadata": {
  "kernelspec": {
   "display_name": "Python 3",
   "language": "python",
   "name": "python3"
  },
  "language_info": {
   "codemirror_mode": {
    "name": "ipython",
    "version": 3
   },
   "file_extension": ".py",
   "mimetype": "text/x-python",
   "name": "python",
   "nbconvert_exporter": "python",
   "pygments_lexer": "ipython3",
   "version": "3.6.4"
  }
 },
 "nbformat": 4,
 "nbformat_minor": 2
}
