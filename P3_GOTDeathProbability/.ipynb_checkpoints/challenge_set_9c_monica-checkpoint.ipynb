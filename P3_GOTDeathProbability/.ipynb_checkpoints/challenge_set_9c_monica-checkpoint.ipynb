{
 "cells": [
  {
   "cell_type": "markdown",
   "metadata": {},
   "source": [
    "# Challenge Set #9\n",
    "## Part III: Soccer Data\n",
    "\n",
    "\n",
    "Topic:        **Introductory - Intermediate level SQL**  \n",
    "Subject:      Soccer Data Analysis using SQLite  \n",
    "Date:         05/18/2018  \n",
    "Name:         Mónica Ramírez  \n",
    "Worked with:"
   ]
  },
  {
   "cell_type": "code",
   "execution_count": 4,
   "metadata": {
    "ExecuteTime": {
     "end_time": "2018-05-20T23:27:34.363050Z",
     "start_time": "2018-05-20T23:27:34.352852Z"
    }
   },
   "outputs": [],
   "source": [
    "#Library Section\n",
    "import pandas as pd\n",
    "import numpy as np\n",
    "import sqlite3"
   ]
  },
  {
   "cell_type": "markdown",
   "metadata": {},
   "source": [
    "Please complete this exercise using sqlite3 and Jupyter notebook.\n",
    "\n",
    "Download the [SQLite](https://www.kaggle.com/hugomathien/soccer/downloads/soccer.zip) database and load in your notebook using the sqlite3 library."
   ]
  },
  {
   "cell_type": "code",
   "execution_count": 5,
   "metadata": {
    "ExecuteTime": {
     "end_time": "2018-05-20T23:27:36.874582Z",
     "start_time": "2018-05-20T23:27:36.859639Z"
    }
   },
   "outputs": [
    {
     "name": "stdout",
     "output_type": "stream",
     "text": [
      "('sqlite_sequence',)\n",
      "('Player_Attributes',)\n",
      "('Player',)\n",
      "('Match',)\n",
      "('League',)\n",
      "('Country',)\n",
      "('Team',)\n",
      "('Team_Attributes',)\n"
     ]
    }
   ],
   "source": [
    "conn = sqlite3.connect('database.sqlite')\n",
    "c = conn.cursor()\n",
    "res = conn.execute(\"SELECT name FROM sqlite_master WHERE type='table';\")\n",
    "for name in res:\n",
    "    print(name)"
   ]
  },
  {
   "cell_type": "markdown",
   "metadata": {},
   "source": [
    "**Challenge 1**\n",
    "\n",
    "- Which team scored the most points when playing at home?"
   ]
  },
  {
   "cell_type": "code",
   "execution_count": 24,
   "metadata": {
    "ExecuteTime": {
     "end_time": "2018-05-18T22:59:00.509664Z",
     "start_time": "2018-05-18T22:59:00.495149Z"
    }
   },
   "outputs": [
    {
     "data": {
      "text/plain": [
       "[(0, 'id', 'INTEGER', 0, None, 1),\n",
       " (1, 'country_id', 'INTEGER', 0, None, 0),\n",
       " (2, 'league_id', 'INTEGER', 0, None, 0),\n",
       " (3, 'season', 'TEXT', 0, None, 0),\n",
       " (4, 'stage', 'INTEGER', 0, None, 0),\n",
       " (5, 'date', 'TEXT', 0, None, 0),\n",
       " (6, 'match_api_id', 'INTEGER', 0, None, 0),\n",
       " (7, 'home_team_api_id', 'INTEGER', 0, None, 0),\n",
       " (8, 'away_team_api_id', 'INTEGER', 0, None, 0),\n",
       " (9, 'home_team_goal', 'INTEGER', 0, None, 0),\n",
       " (10, 'away_team_goal', 'INTEGER', 0, None, 0),\n",
       " (11, 'home_player_X1', 'INTEGER', 0, None, 0),\n",
       " (12, 'home_player_X2', 'INTEGER', 0, None, 0),\n",
       " (13, 'home_player_X3', 'INTEGER', 0, None, 0),\n",
       " (14, 'home_player_X4', 'INTEGER', 0, None, 0),\n",
       " (15, 'home_player_X5', 'INTEGER', 0, None, 0),\n",
       " (16, 'home_player_X6', 'INTEGER', 0, None, 0),\n",
       " (17, 'home_player_X7', 'INTEGER', 0, None, 0),\n",
       " (18, 'home_player_X8', 'INTEGER', 0, None, 0),\n",
       " (19, 'home_player_X9', 'INTEGER', 0, None, 0),\n",
       " (20, 'home_player_X10', 'INTEGER', 0, None, 0),\n",
       " (21, 'home_player_X11', 'INTEGER', 0, None, 0),\n",
       " (22, 'away_player_X1', 'INTEGER', 0, None, 0),\n",
       " (23, 'away_player_X2', 'INTEGER', 0, None, 0),\n",
       " (24, 'away_player_X3', 'INTEGER', 0, None, 0),\n",
       " (25, 'away_player_X4', 'INTEGER', 0, None, 0),\n",
       " (26, 'away_player_X5', 'INTEGER', 0, None, 0),\n",
       " (27, 'away_player_X6', 'INTEGER', 0, None, 0),\n",
       " (28, 'away_player_X7', 'INTEGER', 0, None, 0),\n",
       " (29, 'away_player_X8', 'INTEGER', 0, None, 0),\n",
       " (30, 'away_player_X9', 'INTEGER', 0, None, 0),\n",
       " (31, 'away_player_X10', 'INTEGER', 0, None, 0),\n",
       " (32, 'away_player_X11', 'INTEGER', 0, None, 0),\n",
       " (33, 'home_player_Y1', 'INTEGER', 0, None, 0),\n",
       " (34, 'home_player_Y2', 'INTEGER', 0, None, 0),\n",
       " (35, 'home_player_Y3', 'INTEGER', 0, None, 0),\n",
       " (36, 'home_player_Y4', 'INTEGER', 0, None, 0),\n",
       " (37, 'home_player_Y5', 'INTEGER', 0, None, 0),\n",
       " (38, 'home_player_Y6', 'INTEGER', 0, None, 0),\n",
       " (39, 'home_player_Y7', 'INTEGER', 0, None, 0),\n",
       " (40, 'home_player_Y8', 'INTEGER', 0, None, 0),\n",
       " (41, 'home_player_Y9', 'INTEGER', 0, None, 0),\n",
       " (42, 'home_player_Y10', 'INTEGER', 0, None, 0),\n",
       " (43, 'home_player_Y11', 'INTEGER', 0, None, 0),\n",
       " (44, 'away_player_Y1', 'INTEGER', 0, None, 0),\n",
       " (45, 'away_player_Y2', 'INTEGER', 0, None, 0),\n",
       " (46, 'away_player_Y3', 'INTEGER', 0, None, 0),\n",
       " (47, 'away_player_Y4', 'INTEGER', 0, None, 0),\n",
       " (48, 'away_player_Y5', 'INTEGER', 0, None, 0),\n",
       " (49, 'away_player_Y6', 'INTEGER', 0, None, 0),\n",
       " (50, 'away_player_Y7', 'INTEGER', 0, None, 0),\n",
       " (51, 'away_player_Y8', 'INTEGER', 0, None, 0),\n",
       " (52, 'away_player_Y9', 'INTEGER', 0, None, 0),\n",
       " (53, 'away_player_Y10', 'INTEGER', 0, None, 0),\n",
       " (54, 'away_player_Y11', 'INTEGER', 0, None, 0),\n",
       " (55, 'home_player_1', 'INTEGER', 0, None, 0),\n",
       " (56, 'home_player_2', 'INTEGER', 0, None, 0),\n",
       " (57, 'home_player_3', 'INTEGER', 0, None, 0),\n",
       " (58, 'home_player_4', 'INTEGER', 0, None, 0),\n",
       " (59, 'home_player_5', 'INTEGER', 0, None, 0),\n",
       " (60, 'home_player_6', 'INTEGER', 0, None, 0),\n",
       " (61, 'home_player_7', 'INTEGER', 0, None, 0),\n",
       " (62, 'home_player_8', 'INTEGER', 0, None, 0),\n",
       " (63, 'home_player_9', 'INTEGER', 0, None, 0),\n",
       " (64, 'home_player_10', 'INTEGER', 0, None, 0),\n",
       " (65, 'home_player_11', 'INTEGER', 0, None, 0),\n",
       " (66, 'away_player_1', 'INTEGER', 0, None, 0),\n",
       " (67, 'away_player_2', 'INTEGER', 0, None, 0),\n",
       " (68, 'away_player_3', 'INTEGER', 0, None, 0),\n",
       " (69, 'away_player_4', 'INTEGER', 0, None, 0),\n",
       " (70, 'away_player_5', 'INTEGER', 0, None, 0),\n",
       " (71, 'away_player_6', 'INTEGER', 0, None, 0),\n",
       " (72, 'away_player_7', 'INTEGER', 0, None, 0),\n",
       " (73, 'away_player_8', 'INTEGER', 0, None, 0),\n",
       " (74, 'away_player_9', 'INTEGER', 0, None, 0),\n",
       " (75, 'away_player_10', 'INTEGER', 0, None, 0),\n",
       " (76, 'away_player_11', 'INTEGER', 0, None, 0),\n",
       " (77, 'goal', 'TEXT', 0, None, 0),\n",
       " (78, 'shoton', 'TEXT', 0, None, 0),\n",
       " (79, 'shotoff', 'TEXT', 0, None, 0),\n",
       " (80, 'foulcommit', 'TEXT', 0, None, 0),\n",
       " (81, 'card', 'TEXT', 0, None, 0),\n",
       " (82, 'cross', 'TEXT', 0, None, 0),\n",
       " (83, 'corner', 'TEXT', 0, None, 0),\n",
       " (84, 'possession', 'TEXT', 0, None, 0),\n",
       " (85, 'B365H', 'NUMERIC', 0, None, 0),\n",
       " (86, 'B365D', 'NUMERIC', 0, None, 0),\n",
       " (87, 'B365A', 'NUMERIC', 0, None, 0),\n",
       " (88, 'BWH', 'NUMERIC', 0, None, 0),\n",
       " (89, 'BWD', 'NUMERIC', 0, None, 0),\n",
       " (90, 'BWA', 'NUMERIC', 0, None, 0),\n",
       " (91, 'IWH', 'NUMERIC', 0, None, 0),\n",
       " (92, 'IWD', 'NUMERIC', 0, None, 0),\n",
       " (93, 'IWA', 'NUMERIC', 0, None, 0),\n",
       " (94, 'LBH', 'NUMERIC', 0, None, 0),\n",
       " (95, 'LBD', 'NUMERIC', 0, None, 0),\n",
       " (96, 'LBA', 'NUMERIC', 0, None, 0),\n",
       " (97, 'PSH', 'NUMERIC', 0, None, 0),\n",
       " (98, 'PSD', 'NUMERIC', 0, None, 0),\n",
       " (99, 'PSA', 'NUMERIC', 0, None, 0),\n",
       " (100, 'WHH', 'NUMERIC', 0, None, 0),\n",
       " (101, 'WHD', 'NUMERIC', 0, None, 0),\n",
       " (102, 'WHA', 'NUMERIC', 0, None, 0),\n",
       " (103, 'SJH', 'NUMERIC', 0, None, 0),\n",
       " (104, 'SJD', 'NUMERIC', 0, None, 0),\n",
       " (105, 'SJA', 'NUMERIC', 0, None, 0),\n",
       " (106, 'VCH', 'NUMERIC', 0, None, 0),\n",
       " (107, 'VCD', 'NUMERIC', 0, None, 0),\n",
       " (108, 'VCA', 'NUMERIC', 0, None, 0),\n",
       " (109, 'GBH', 'NUMERIC', 0, None, 0),\n",
       " (110, 'GBD', 'NUMERIC', 0, None, 0),\n",
       " (111, 'GBA', 'NUMERIC', 0, None, 0),\n",
       " (112, 'BSH', 'NUMERIC', 0, None, 0),\n",
       " (113, 'BSD', 'NUMERIC', 0, None, 0),\n",
       " (114, 'BSA', 'NUMERIC', 0, None, 0)]"
      ]
     },
     "execution_count": 24,
     "metadata": {},
     "output_type": "execute_result"
    }
   ],
   "source": [
    "c.execute('PRAGMA table_info(Match)').fetchall()"
   ]
  },
  {
   "cell_type": "code",
   "execution_count": 29,
   "metadata": {
    "ExecuteTime": {
     "end_time": "2018-05-18T23:00:34.393369Z",
     "start_time": "2018-05-18T23:00:34.312207Z"
    }
   },
   "outputs": [
    {
     "data": {
      "text/plain": [
       "[('Real Madrid CF', 505)]"
      ]
     },
     "execution_count": 29,
     "metadata": {},
     "output_type": "execute_result"
    }
   ],
   "source": [
    "sql1 = '''\n",
    "SELECT team_long_name, SUM(home_team_goal) \n",
    "FROM Match M\n",
    "INNER JOIN Team T\n",
    "ON M.home_team_api_id = T.team_api_id\n",
    "GROUP BY 1\n",
    "ORDER BY 2 DESC\n",
    "LIMIT 1;\n",
    "'''\n",
    "c.execute(sql1).fetchall()"
   ]
  },
  {
   "cell_type": "markdown",
   "metadata": {},
   "source": [
    "**Challenge 2**\n",
    "\n",
    "- Did this team also score the most points when playing away?"
   ]
  },
  {
   "cell_type": "code",
   "execution_count": 32,
   "metadata": {
    "ExecuteTime": {
     "end_time": "2018-05-18T23:03:25.061467Z",
     "start_time": "2018-05-18T23:03:24.988862Z"
    }
   },
   "outputs": [
    {
     "data": {
      "text/plain": [
       "[(147,)]"
      ]
     },
     "execution_count": 32,
     "metadata": {},
     "output_type": "execute_result"
    }
   ],
   "source": [
    "sql2 = '''\n",
    "SELECT SUM(away_team_goal) \n",
    "FROM Match M\n",
    "INNER JOIN Team T\n",
    "ON M.home_team_api_id = T.team_api_id\n",
    "AND T.team_long_name = 'Real Madrid CF';\n",
    "'''\n",
    "c.execute(sql2).fetchall()"
   ]
  },
  {
   "cell_type": "markdown",
   "metadata": {},
   "source": [
    "**Challenge 3**\n",
    "\n",
    "- How many matches resulted in a tie?"
   ]
  },
  {
   "cell_type": "code",
   "execution_count": 15,
   "metadata": {
    "ExecuteTime": {
     "end_time": "2018-05-20T23:06:01.728259Z",
     "start_time": "2018-05-20T23:06:00.647766Z"
    }
   },
   "outputs": [
    {
     "data": {
      "text/plain": [
       "[(6596,)]"
      ]
     },
     "execution_count": 15,
     "metadata": {},
     "output_type": "execute_result"
    }
   ],
   "source": [
    "sql3 = '''\n",
    "SELECT COUNT(*)\n",
    "FROM Match\n",
    "WHERE away_team_goal = home_team_goal;\n",
    "'''\n",
    "c.execute(sql3).fetchall()\n"
   ]
  },
  {
   "cell_type": "markdown",
   "metadata": {},
   "source": [
    "**Challenge 4**\n",
    "\n",
    "- How many players have Smith for their last name? How many have 'smith' anywhere in their name?"
   ]
  },
  {
   "cell_type": "code",
   "execution_count": 36,
   "metadata": {
    "ExecuteTime": {
     "end_time": "2018-05-18T23:19:13.539988Z",
     "start_time": "2018-05-18T23:19:13.532846Z"
    }
   },
   "outputs": [
    {
     "data": {
      "text/plain": [
       "[(0, 'id', 'INTEGER', 0, None, 1),\n",
       " (1, 'player_api_id', 'INTEGER', 0, None, 0),\n",
       " (2, 'player_name', 'TEXT', 0, None, 0),\n",
       " (3, 'player_fifa_api_id', 'INTEGER', 0, None, 0),\n",
       " (4, 'birthday', 'TEXT', 0, None, 0),\n",
       " (5, 'height', 'INTEGER', 0, None, 0),\n",
       " (6, 'weight', 'INTEGER', 0, None, 0)]"
      ]
     },
     "execution_count": 36,
     "metadata": {},
     "output_type": "execute_result"
    }
   ],
   "source": [
    "c.execute('PRAGMA table_info(Player)').fetchall()"
   ]
  },
  {
   "cell_type": "code",
   "execution_count": 39,
   "metadata": {
    "ExecuteTime": {
     "end_time": "2018-05-18T23:23:56.528256Z",
     "start_time": "2018-05-18T23:23:56.515807Z"
    }
   },
   "outputs": [
    {
     "data": {
      "text/plain": [
       "[(15,)]"
      ]
     },
     "execution_count": 39,
     "metadata": {},
     "output_type": "execute_result"
    }
   ],
   "source": [
    "sql4a = '''\n",
    "SELECT COUNT(*) \n",
    "FROM Player\n",
    "WHERE player_name LIKE '% Smith';\n",
    "'''\n",
    "c.execute(sql4a).fetchall()"
   ]
  },
  {
   "cell_type": "code",
   "execution_count": 40,
   "metadata": {
    "ExecuteTime": {
     "end_time": "2018-05-18T23:23:58.526175Z",
     "start_time": "2018-05-18T23:23:58.518938Z"
    }
   },
   "outputs": [
    {
     "data": {
      "text/plain": [
       "[(18,)]"
      ]
     },
     "execution_count": 40,
     "metadata": {},
     "output_type": "execute_result"
    }
   ],
   "source": [
    "sql4b = '''\n",
    "SELECT COUNT(*) \n",
    "FROM Player\n",
    "WHERE player_name LIKE '%smith%';\n",
    "'''\n",
    "c.execute(sql4b).fetchall()"
   ]
  },
  {
   "cell_type": "markdown",
   "metadata": {},
   "source": [
    "**Challenge 6**\n",
    "\n",
    "What percentage of players prefer their left or right foot?  \n",
    "*Hint: Calculate either the right or left foot, whichever is easier based on how you setup the problem.*"
   ]
  },
  {
   "cell_type": "code",
   "execution_count": 3,
   "metadata": {
    "ExecuteTime": {
     "end_time": "2018-05-20T23:21:38.357739Z",
     "start_time": "2018-05-20T23:21:38.340486Z"
    }
   },
   "outputs": [
    {
     "data": {
      "text/plain": [
       "[(0, 'id', 'INTEGER', 0, None, 1),\n",
       " (1, 'player_fifa_api_id', 'INTEGER', 0, None, 0),\n",
       " (2, 'player_api_id', 'INTEGER', 0, None, 0),\n",
       " (3, 'date', 'TEXT', 0, None, 0),\n",
       " (4, 'overall_rating', 'INTEGER', 0, None, 0),\n",
       " (5, 'potential', 'INTEGER', 0, None, 0),\n",
       " (6, 'preferred_foot', 'TEXT', 0, None, 0),\n",
       " (7, 'attacking_work_rate', 'TEXT', 0, None, 0),\n",
       " (8, 'defensive_work_rate', 'TEXT', 0, None, 0),\n",
       " (9, 'crossing', 'INTEGER', 0, None, 0),\n",
       " (10, 'finishing', 'INTEGER', 0, None, 0),\n",
       " (11, 'heading_accuracy', 'INTEGER', 0, None, 0),\n",
       " (12, 'short_passing', 'INTEGER', 0, None, 0),\n",
       " (13, 'volleys', 'INTEGER', 0, None, 0),\n",
       " (14, 'dribbling', 'INTEGER', 0, None, 0),\n",
       " (15, 'curve', 'INTEGER', 0, None, 0),\n",
       " (16, 'free_kick_accuracy', 'INTEGER', 0, None, 0),\n",
       " (17, 'long_passing', 'INTEGER', 0, None, 0),\n",
       " (18, 'ball_control', 'INTEGER', 0, None, 0),\n",
       " (19, 'acceleration', 'INTEGER', 0, None, 0),\n",
       " (20, 'sprint_speed', 'INTEGER', 0, None, 0),\n",
       " (21, 'agility', 'INTEGER', 0, None, 0),\n",
       " (22, 'reactions', 'INTEGER', 0, None, 0),\n",
       " (23, 'balance', 'INTEGER', 0, None, 0),\n",
       " (24, 'shot_power', 'INTEGER', 0, None, 0),\n",
       " (25, 'jumping', 'INTEGER', 0, None, 0),\n",
       " (26, 'stamina', 'INTEGER', 0, None, 0),\n",
       " (27, 'strength', 'INTEGER', 0, None, 0),\n",
       " (28, 'long_shots', 'INTEGER', 0, None, 0),\n",
       " (29, 'aggression', 'INTEGER', 0, None, 0),\n",
       " (30, 'interceptions', 'INTEGER', 0, None, 0),\n",
       " (31, 'positioning', 'INTEGER', 0, None, 0),\n",
       " (32, 'vision', 'INTEGER', 0, None, 0),\n",
       " (33, 'penalties', 'INTEGER', 0, None, 0),\n",
       " (34, 'marking', 'INTEGER', 0, None, 0),\n",
       " (35, 'standing_tackle', 'INTEGER', 0, None, 0),\n",
       " (36, 'sliding_tackle', 'INTEGER', 0, None, 0),\n",
       " (37, 'gk_diving', 'INTEGER', 0, None, 0),\n",
       " (38, 'gk_handling', 'INTEGER', 0, None, 0),\n",
       " (39, 'gk_kicking', 'INTEGER', 0, None, 0),\n",
       " (40, 'gk_positioning', 'INTEGER', 0, None, 0),\n",
       " (41, 'gk_reflexes', 'INTEGER', 0, None, 0)]"
      ]
     },
     "execution_count": 3,
     "metadata": {},
     "output_type": "execute_result"
    }
   ],
   "source": [
    "c.execute('PRAGMA table_info(Player_Attributes)').fetchall()"
   ]
  },
  {
   "cell_type": "code",
   "execution_count": 22,
   "metadata": {
    "ExecuteTime": {
     "end_time": "2018-05-20T23:35:15.393472Z",
     "start_time": "2018-05-20T23:35:15.210887Z"
    }
   },
   "outputs": [
    {
     "data": {
      "text/plain": [
       "[(None, 0.45440215677961493),\n",
       " ('left', 24.314320190457554),\n",
       " ('right', 75.23127765276283)]"
      ]
     },
     "execution_count": 22,
     "metadata": {},
     "output_type": "execute_result"
    }
   ],
   "source": [
    "sql6 = '''\n",
    "SELECT P.preferred_foot, 100*COUNT(*)/T.total\n",
    "FROM Player_Attributes P\n",
    "CROSS JOIN (\n",
    "SELECT COUNT(*) AS total\n",
    "FROM Player_Attributes\n",
    ") T\n",
    "GROUP BY 1;\n",
    "'''\n",
    "c.execute(sql6).fetchall()"
   ]
  },
  {
   "cell_type": "code",
   "execution_count": null,
   "metadata": {},
   "outputs": [],
   "source": []
  }
 ],
 "metadata": {
  "kernelspec": {
   "display_name": "Python 3",
   "language": "python",
   "name": "python3"
  },
  "language_info": {
   "codemirror_mode": {
    "name": "ipython",
    "version": 3
   },
   "file_extension": ".py",
   "mimetype": "text/x-python",
   "name": "python",
   "nbconvert_exporter": "python",
   "pygments_lexer": "ipython3",
   "version": "3.6.4"
  }
 },
 "nbformat": 4,
 "nbformat_minor": 2
}
