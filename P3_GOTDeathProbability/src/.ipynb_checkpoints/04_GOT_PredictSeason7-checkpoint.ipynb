{
 "cells": [
  {
   "cell_type": "markdown",
   "metadata": {},
   "source": [
    "# GAME OF THRONES Death Prediction\n",
    "\n",
    "## Predictions\n",
    "\n",
    "This sript will retrieve information from the .csv file saved on step 1 ([Load&Clean data](01_LoadClean_data.ipynb)) and the best Model chosen on step 3 ([Modeling data](03_GOT_ModelAnalysis.ipynb)) and perform a prediction on those characters who are still alive on season 7.\n",
    "\n",
    "If step 0 ([Load&Clean data](01_LoadClean_data.ipynb)) has already been executed **once** it will not be necessary to execute it again and you can start from here."
   ]
  },
  {
   "cell_type": "code",
   "execution_count": 1,
   "metadata": {
    "ExecuteTime": {
     "end_time": "2018-05-20T21:15:56.858785Z",
     "start_time": "2018-05-20T21:15:56.477256Z"
    }
   },
   "outputs": [],
   "source": [
    "import pandas as pd\n",
    "import numpy as np\n",
    "import pickle"
   ]
  },
  {
   "cell_type": "code",
   "execution_count": 2,
   "metadata": {
    "ExecuteTime": {
     "end_time": "2018-05-20T21:15:57.326521Z",
     "start_time": "2018-05-20T21:15:57.258250Z"
    }
   },
   "outputs": [
    {
     "data": {
      "text/plain": [
       "Index(['Unnamed: 0', 'name_x', 'isdead_bk', 'ismale', 'book1', 'book2',\n",
       "       'book3', 'book4', 'book5', 'isalivemother_bk',\n",
       "       ...\n",
       "       'house_bk[T.STONE CROWS]', 'house_bk[T.UNKNOWN]',\n",
       "       'house_shw[T.House Bolton]', 'house_shw[T.House Greyjoy]',\n",
       "       'house_shw[T.House Lannister]', 'house_shw[T.House Stark]',\n",
       "       'house_shw[T.House Targaryen]', 'house_shw[T.Nights Watch]',\n",
       "       'house_shw[T.None]', 'house_shw[T.Other]'],\n",
       "      dtype='object', length=122)"
      ]
     },
     "execution_count": 2,
     "metadata": {},
     "output_type": "execute_result"
    }
   ],
   "source": [
    "s7_df = pd.read_csv('../csv/SQL_GOT_data.csv')\n",
    "s7_df.columns"
   ]
  },
  {
   "cell_type": "markdown",
   "metadata": {},
   "source": [
    "### Update deaths from S7"
   ]
  },
  {
   "cell_type": "code",
   "execution_count": 3,
   "metadata": {
    "ExecuteTime": {
     "end_time": "2018-05-20T21:16:01.674654Z",
     "start_time": "2018-05-20T21:16:01.621375Z"
    }
   },
   "outputs": [
    {
     "name": "stderr",
     "output_type": "stream",
     "text": [
      "/Users/monita/anaconda3/lib/python3.6/site-packages/ipykernel_launcher.py:1: SettingWithCopyWarning: \n",
      "A value is trying to be set on a copy of a slice from a DataFrame\n",
      "\n",
      "See the caveats in the documentation: http://pandas.pydata.org/pandas-docs/stable/indexing.html#indexing-view-versus-copy\n",
      "  \"\"\"Entry point for launching an IPython kernel.\n"
     ]
    },
    {
     "data": {
      "text/html": [
       "<div>\n",
       "<style scoped>\n",
       "    .dataframe tbody tr th:only-of-type {\n",
       "        vertical-align: middle;\n",
       "    }\n",
       "\n",
       "    .dataframe tbody tr th {\n",
       "        vertical-align: top;\n",
       "    }\n",
       "\n",
       "    .dataframe thead th {\n",
       "        text-align: right;\n",
       "    }\n",
       "</style>\n",
       "<table border=\"1\" class=\"dataframe\">\n",
       "  <thead>\n",
       "    <tr style=\"text-align: right;\">\n",
       "      <th></th>\n",
       "      <th>name_x</th>\n",
       "      <th>isdead_shw</th>\n",
       "    </tr>\n",
       "  </thead>\n",
       "  <tbody>\n",
       "    <tr>\n",
       "      <th>999</th>\n",
       "      <td>Leona Tyrell</td>\n",
       "      <td>1.0</td>\n",
       "    </tr>\n",
       "  </tbody>\n",
       "</table>\n",
       "</div>"
      ],
      "text/plain": [
       "           name_x  isdead_shw\n",
       "999  Leona Tyrell         1.0"
      ]
     },
     "execution_count": 3,
     "metadata": {},
     "output_type": "execute_result"
    }
   ],
   "source": [
    "s7_df['isdead_shw'][s7_df.name_x=='Leona Tyrell']=1\n",
    "s7_df[s7_df.name_x=='Leona Tyrell'][['name_x', 'isdead_shw']]"
   ]
  },
  {
   "cell_type": "code",
   "execution_count": 4,
   "metadata": {
    "ExecuteTime": {
     "end_time": "2018-05-20T21:16:07.364684Z",
     "start_time": "2018-05-20T21:16:07.322303Z"
    }
   },
   "outputs": [
    {
     "name": "stderr",
     "output_type": "stream",
     "text": [
      "/Users/monita/anaconda3/lib/python3.6/site-packages/ipykernel_launcher.py:1: SettingWithCopyWarning: \n",
      "A value is trying to be set on a copy of a slice from a DataFrame\n",
      "\n",
      "See the caveats in the documentation: http://pandas.pydata.org/pandas-docs/stable/indexing.html#indexing-view-versus-copy\n",
      "  \"\"\"Entry point for launching an IPython kernel.\n"
     ]
    },
    {
     "data": {
      "text/html": [
       "<div>\n",
       "<style scoped>\n",
       "    .dataframe tbody tr th:only-of-type {\n",
       "        vertical-align: middle;\n",
       "    }\n",
       "\n",
       "    .dataframe tbody tr th {\n",
       "        vertical-align: top;\n",
       "    }\n",
       "\n",
       "    .dataframe thead th {\n",
       "        text-align: right;\n",
       "    }\n",
       "</style>\n",
       "<table border=\"1\" class=\"dataframe\">\n",
       "  <thead>\n",
       "    <tr style=\"text-align: right;\">\n",
       "      <th></th>\n",
       "      <th>name_x</th>\n",
       "      <th>isdead_shw</th>\n",
       "    </tr>\n",
       "  </thead>\n",
       "  <tbody>\n",
       "    <tr>\n",
       "      <th>1733</th>\n",
       "      <td>Taena of Myr</td>\n",
       "      <td>1.0</td>\n",
       "    </tr>\n",
       "  </tbody>\n",
       "</table>\n",
       "</div>"
      ],
      "text/plain": [
       "            name_x  isdead_shw\n",
       "1733  Taena of Myr         1.0"
      ]
     },
     "execution_count": 4,
     "metadata": {},
     "output_type": "execute_result"
    }
   ],
   "source": [
    "s7_df['isdead_shw'][s7_df.name_x=='Taena of Myr']=1\n",
    "s7_df[s7_df.name_x=='Taena of Myr'][['name_x', 'isdead_shw']]"
   ]
  },
  {
   "cell_type": "code",
   "execution_count": 5,
   "metadata": {
    "ExecuteTime": {
     "end_time": "2018-05-20T21:16:09.670200Z",
     "start_time": "2018-05-20T21:16:09.623183Z"
    }
   },
   "outputs": [
    {
     "name": "stderr",
     "output_type": "stream",
     "text": [
      "/Users/monita/anaconda3/lib/python3.6/site-packages/ipykernel_launcher.py:1: SettingWithCopyWarning: \n",
      "A value is trying to be set on a copy of a slice from a DataFrame\n",
      "\n",
      "See the caveats in the documentation: http://pandas.pydata.org/pandas-docs/stable/indexing.html#indexing-view-versus-copy\n",
      "  \"\"\"Entry point for launching an IPython kernel.\n"
     ]
    },
    {
     "data": {
      "text/html": [
       "<div>\n",
       "<style scoped>\n",
       "    .dataframe tbody tr th:only-of-type {\n",
       "        vertical-align: middle;\n",
       "    }\n",
       "\n",
       "    .dataframe tbody tr th {\n",
       "        vertical-align: top;\n",
       "    }\n",
       "\n",
       "    .dataframe thead th {\n",
       "        text-align: right;\n",
       "    }\n",
       "</style>\n",
       "<table border=\"1\" class=\"dataframe\">\n",
       "  <thead>\n",
       "    <tr style=\"text-align: right;\">\n",
       "      <th></th>\n",
       "      <th>name_x</th>\n",
       "      <th>isdead_shw</th>\n",
       "    </tr>\n",
       "  </thead>\n",
       "  <tbody>\n",
       "    <tr>\n",
       "      <th>1391</th>\n",
       "      <td>Petyr Baelish</td>\n",
       "      <td>1.0</td>\n",
       "    </tr>\n",
       "  </tbody>\n",
       "</table>\n",
       "</div>"
      ],
      "text/plain": [
       "             name_x  isdead_shw\n",
       "1391  Petyr Baelish         1.0"
      ]
     },
     "execution_count": 5,
     "metadata": {},
     "output_type": "execute_result"
    }
   ],
   "source": [
    "s7_df['isdead_shw'][s7_df.name_x=='Petyr Baelish']=1\n",
    "s7_df[s7_df.name_x=='Petyr Baelish'][['name_x', 'isdead_shw']]"
   ]
  },
  {
   "cell_type": "markdown",
   "metadata": {},
   "source": [
    "### Update House new allegiances from Season 7"
   ]
  },
  {
   "cell_type": "code",
   "execution_count": 6,
   "metadata": {
    "ExecuteTime": {
     "end_time": "2018-05-20T21:17:13.511316Z",
     "start_time": "2018-05-20T21:17:13.442263Z"
    },
    "scrolled": true
   },
   "outputs": [
    {
     "name": "stderr",
     "output_type": "stream",
     "text": [
      "/Users/monita/anaconda3/lib/python3.6/site-packages/ipykernel_launcher.py:1: SettingWithCopyWarning: \n",
      "A value is trying to be set on a copy of a slice from a DataFrame\n",
      "\n",
      "See the caveats in the documentation: http://pandas.pydata.org/pandas-docs/stable/indexing.html#indexing-view-versus-copy\n",
      "  \"\"\"Entry point for launching an IPython kernel.\n",
      "/Users/monita/anaconda3/lib/python3.6/site-packages/ipykernel_launcher.py:2: SettingWithCopyWarning: \n",
      "A value is trying to be set on a copy of a slice from a DataFrame\n",
      "\n",
      "See the caveats in the documentation: http://pandas.pydata.org/pandas-docs/stable/indexing.html#indexing-view-versus-copy\n",
      "  \n"
     ]
    },
    {
     "data": {
      "text/html": [
       "<div>\n",
       "<style scoped>\n",
       "    .dataframe tbody tr th:only-of-type {\n",
       "        vertical-align: middle;\n",
       "    }\n",
       "\n",
       "    .dataframe tbody tr th {\n",
       "        vertical-align: top;\n",
       "    }\n",
       "\n",
       "    .dataframe thead th {\n",
       "        text-align: right;\n",
       "    }\n",
       "</style>\n",
       "<table border=\"1\" class=\"dataframe\">\n",
       "  <thead>\n",
       "    <tr style=\"text-align: right;\">\n",
       "      <th></th>\n",
       "      <th>name_x</th>\n",
       "      <th>house_shw</th>\n",
       "      <th>house_shw[T.House Stark]</th>\n",
       "    </tr>\n",
       "  </thead>\n",
       "  <tbody>\n",
       "    <tr>\n",
       "      <th>266</th>\n",
       "      <td>Brienne of Tarth</td>\n",
       "      <td>House Stark</td>\n",
       "      <td>1.0</td>\n",
       "    </tr>\n",
       "  </tbody>\n",
       "</table>\n",
       "</div>"
      ],
      "text/plain": [
       "               name_x    house_shw  house_shw[T.House Stark]\n",
       "266  Brienne of Tarth  House Stark                       1.0"
      ]
     },
     "execution_count": 6,
     "metadata": {},
     "output_type": "execute_result"
    }
   ],
   "source": [
    "s7_df['house_shw'][s7_df.name_x=='Brienne of Tarth']='House Stark'\n",
    "s7_df['house_shw[T.House Stark]'][s7_df.name_x=='Brienne of Tarth']=1\n",
    "s7_df[s7_df.name_x=='Brienne of Tarth'][['name_x', 'house_shw', 'house_shw[T.House Stark]']]"
   ]
  },
  {
   "cell_type": "code",
   "execution_count": 7,
   "metadata": {
    "ExecuteTime": {
     "end_time": "2018-05-20T21:17:14.538550Z",
     "start_time": "2018-05-20T21:17:14.460709Z"
    }
   },
   "outputs": [
    {
     "name": "stderr",
     "output_type": "stream",
     "text": [
      "/Users/monita/anaconda3/lib/python3.6/site-packages/ipykernel_launcher.py:1: SettingWithCopyWarning: \n",
      "A value is trying to be set on a copy of a slice from a DataFrame\n",
      "\n",
      "See the caveats in the documentation: http://pandas.pydata.org/pandas-docs/stable/indexing.html#indexing-view-versus-copy\n",
      "  \"\"\"Entry point for launching an IPython kernel.\n",
      "/Users/monita/anaconda3/lib/python3.6/site-packages/ipykernel_launcher.py:2: SettingWithCopyWarning: \n",
      "A value is trying to be set on a copy of a slice from a DataFrame\n",
      "\n",
      "See the caveats in the documentation: http://pandas.pydata.org/pandas-docs/stable/indexing.html#indexing-view-versus-copy\n",
      "  \n"
     ]
    },
    {
     "data": {
      "text/html": [
       "<div>\n",
       "<style scoped>\n",
       "    .dataframe tbody tr th:only-of-type {\n",
       "        vertical-align: middle;\n",
       "    }\n",
       "\n",
       "    .dataframe tbody tr th {\n",
       "        vertical-align: top;\n",
       "    }\n",
       "\n",
       "    .dataframe thead th {\n",
       "        text-align: right;\n",
       "    }\n",
       "</style>\n",
       "<table border=\"1\" class=\"dataframe\">\n",
       "  <thead>\n",
       "    <tr style=\"text-align: right;\">\n",
       "      <th></th>\n",
       "      <th>name_x</th>\n",
       "      <th>house_shw</th>\n",
       "      <th>house_shw[T.House Lannister]</th>\n",
       "    </tr>\n",
       "  </thead>\n",
       "  <tbody>\n",
       "    <tr>\n",
       "      <th>268</th>\n",
       "      <td>Bronn</td>\n",
       "      <td>House Lannister</td>\n",
       "      <td>1.0</td>\n",
       "    </tr>\n",
       "  </tbody>\n",
       "</table>\n",
       "</div>"
      ],
      "text/plain": [
       "    name_x        house_shw  house_shw[T.House Lannister]\n",
       "268  Bronn  House Lannister                           1.0"
      ]
     },
     "execution_count": 7,
     "metadata": {},
     "output_type": "execute_result"
    }
   ],
   "source": [
    "s7_df['house_shw'][s7_df.name_x=='Bronn']='House Lannister'\n",
    "s7_df['house_shw[T.House Lannister]'][s7_df.name_x=='Bronn']=1\n",
    "s7_df[s7_df.name_x=='Bronn'][['name_x', 'house_shw', 'house_shw[T.House Lannister]']]"
   ]
  },
  {
   "cell_type": "code",
   "execution_count": 8,
   "metadata": {
    "ExecuteTime": {
     "end_time": "2018-05-20T21:17:34.710288Z",
     "start_time": "2018-05-20T21:17:34.686381Z"
    }
   },
   "outputs": [
    {
     "data": {
      "text/html": [
       "<div>\n",
       "<style scoped>\n",
       "    .dataframe tbody tr th:only-of-type {\n",
       "        vertical-align: middle;\n",
       "    }\n",
       "\n",
       "    .dataframe tbody tr th {\n",
       "        vertical-align: top;\n",
       "    }\n",
       "\n",
       "    .dataframe thead th {\n",
       "        text-align: right;\n",
       "    }\n",
       "</style>\n",
       "<table border=\"1\" class=\"dataframe\">\n",
       "  <thead>\n",
       "    <tr style=\"text-align: right;\">\n",
       "      <th></th>\n",
       "      <th>name_x</th>\n",
       "      <th>total_viewers</th>\n",
       "    </tr>\n",
       "  </thead>\n",
       "  <tbody>\n",
       "    <tr>\n",
       "      <th>312</th>\n",
       "      <td>Cersei Lannister</td>\n",
       "      <td>0.886001</td>\n",
       "    </tr>\n",
       "    <tr>\n",
       "      <th>1834</th>\n",
       "      <td>Tyrion Lannister</td>\n",
       "      <td>0.880097</td>\n",
       "    </tr>\n",
       "    <tr>\n",
       "      <th>379</th>\n",
       "      <td>Daenerys Targaryen</td>\n",
       "      <td>0.819235</td>\n",
       "    </tr>\n",
       "    <tr>\n",
       "      <th>904</th>\n",
       "      <td>Jon Snow</td>\n",
       "      <td>0.808200</td>\n",
       "    </tr>\n",
       "    <tr>\n",
       "      <th>140</th>\n",
       "      <td>Arya Stark</td>\n",
       "      <td>0.797164</td>\n",
       "    </tr>\n",
       "    <tr>\n",
       "      <th>910</th>\n",
       "      <td>Jorah Mormont</td>\n",
       "      <td>0.758649</td>\n",
       "    </tr>\n",
       "    <tr>\n",
       "      <th>1633</th>\n",
       "      <td>Sansa Stark</td>\n",
       "      <td>0.755504</td>\n",
       "    </tr>\n",
       "    <tr>\n",
       "      <th>829</th>\n",
       "      <td>Jaime Lannister</td>\n",
       "      <td>0.728687</td>\n",
       "    </tr>\n",
       "    <tr>\n",
       "      <th>1630</th>\n",
       "      <td>Samwell Tarly</td>\n",
       "      <td>0.688021</td>\n",
       "    </tr>\n",
       "    <tr>\n",
       "      <th>1631</th>\n",
       "      <td>Sandor Clegane</td>\n",
       "      <td>0.664239</td>\n",
       "    </tr>\n",
       "    <tr>\n",
       "      <th>266</th>\n",
       "      <td>Brienne of Tarth</td>\n",
       "      <td>0.606081</td>\n",
       "    </tr>\n",
       "    <tr>\n",
       "      <th>1877</th>\n",
       "      <td>Varys</td>\n",
       "      <td>0.592948</td>\n",
       "    </tr>\n",
       "    <tr>\n",
       "      <th>252</th>\n",
       "      <td>Brandon Stark</td>\n",
       "      <td>0.578602</td>\n",
       "    </tr>\n",
       "    <tr>\n",
       "      <th>1760</th>\n",
       "      <td>Theon Greyjoy</td>\n",
       "      <td>0.568890</td>\n",
       "    </tr>\n",
       "    <tr>\n",
       "      <th>663</th>\n",
       "      <td>Grenn</td>\n",
       "      <td>0.566352</td>\n",
       "    </tr>\n",
       "    <tr>\n",
       "      <th>268</th>\n",
       "      <td>Bronn</td>\n",
       "      <td>0.486840</td>\n",
       "    </tr>\n",
       "    <tr>\n",
       "      <th>1397</th>\n",
       "      <td>Podrick Payne</td>\n",
       "      <td>0.486178</td>\n",
       "    </tr>\n",
       "    <tr>\n",
       "      <th>1217</th>\n",
       "      <td>Missandei</td>\n",
       "      <td>0.485019</td>\n",
       "    </tr>\n",
       "    <tr>\n",
       "      <th>491</th>\n",
       "      <td>Eddison Tollett</td>\n",
       "      <td>0.479667</td>\n",
       "    </tr>\n",
       "    <tr>\n",
       "      <th>667</th>\n",
       "      <td>Grey Worm</td>\n",
       "      <td>0.407990</td>\n",
       "    </tr>\n",
       "    <tr>\n",
       "      <th>618</th>\n",
       "      <td>Gendry</td>\n",
       "      <td>0.400375</td>\n",
       "    </tr>\n",
       "    <tr>\n",
       "      <th>418</th>\n",
       "      <td>Davos Seaworth</td>\n",
       "      <td>0.381008</td>\n",
       "    </tr>\n",
       "    <tr>\n",
       "      <th>1191</th>\n",
       "      <td>Melisandre</td>\n",
       "      <td>0.364344</td>\n",
       "    </tr>\n",
       "    <tr>\n",
       "      <th>634</th>\n",
       "      <td>Gilly</td>\n",
       "      <td>0.347238</td>\n",
       "    </tr>\n",
       "    <tr>\n",
       "      <th>834</th>\n",
       "      <td>Janos Slynt</td>\n",
       "      <td>0.327098</td>\n",
       "    </tr>\n",
       "    <tr>\n",
       "      <th>1177</th>\n",
       "      <td>Meera Reed</td>\n",
       "      <td>0.291011</td>\n",
       "    </tr>\n",
       "    <tr>\n",
       "      <th>368</th>\n",
       "      <td>Daario Naharis</td>\n",
       "      <td>0.277438</td>\n",
       "    </tr>\n",
       "    <tr>\n",
       "      <th>788</th>\n",
       "      <td>Hot Pie</td>\n",
       "      <td>0.255090</td>\n",
       "    </tr>\n",
       "    <tr>\n",
       "      <th>662</th>\n",
       "      <td>Gregor Clegane</td>\n",
       "      <td>0.208023</td>\n",
       "    </tr>\n",
       "    <tr>\n",
       "      <th>465</th>\n",
       "      <td>Doreah</td>\n",
       "      <td>0.188931</td>\n",
       "    </tr>\n",
       "    <tr>\n",
       "      <th>1451</th>\n",
       "      <td>Qyburn</td>\n",
       "      <td>0.185896</td>\n",
       "    </tr>\n",
       "    <tr>\n",
       "      <th>111</th>\n",
       "      <td>Anguy</td>\n",
       "      <td>0.163052</td>\n",
       "    </tr>\n",
       "    <tr>\n",
       "      <th>835</th>\n",
       "      <td>Jaqen H'ghar</td>\n",
       "      <td>0.152127</td>\n",
       "    </tr>\n",
       "    <tr>\n",
       "      <th>1104</th>\n",
       "      <td>Mace Tyrell</td>\n",
       "      <td>0.149203</td>\n",
       "    </tr>\n",
       "    <tr>\n",
       "      <th>519</th>\n",
       "      <td>Ellaria Sand</td>\n",
       "      <td>0.147382</td>\n",
       "    </tr>\n",
       "    <tr>\n",
       "      <th>279</th>\n",
       "      <td>Brynden Tully</td>\n",
       "      <td>0.141423</td>\n",
       "    </tr>\n",
       "    <tr>\n",
       "      <th>213</th>\n",
       "      <td>Beric Dondarrion</td>\n",
       "      <td>0.126911</td>\n",
       "    </tr>\n",
       "    <tr>\n",
       "      <th>1985</th>\n",
       "      <td>Xaro Xhoan Daxos</td>\n",
       "      <td>0.106605</td>\n",
       "    </tr>\n",
       "    <tr>\n",
       "      <th>1623</th>\n",
       "      <td>Salladhor Saan</td>\n",
       "      <td>0.080174</td>\n",
       "    </tr>\n",
       "    <tr>\n",
       "      <th>948</th>\n",
       "      <td>Kevan Lannister</td>\n",
       "      <td>0.067759</td>\n",
       "    </tr>\n",
       "  </tbody>\n",
       "</table>\n",
       "</div>"
      ],
      "text/plain": [
       "                  name_x  total_viewers\n",
       "312     Cersei Lannister       0.886001\n",
       "1834    Tyrion Lannister       0.880097\n",
       "379   Daenerys Targaryen       0.819235\n",
       "904             Jon Snow       0.808200\n",
       "140           Arya Stark       0.797164\n",
       "910        Jorah Mormont       0.758649\n",
       "1633         Sansa Stark       0.755504\n",
       "829      Jaime Lannister       0.728687\n",
       "1630       Samwell Tarly       0.688021\n",
       "1631      Sandor Clegane       0.664239\n",
       "266     Brienne of Tarth       0.606081\n",
       "1877               Varys       0.592948\n",
       "252        Brandon Stark       0.578602\n",
       "1760       Theon Greyjoy       0.568890\n",
       "663                Grenn       0.566352\n",
       "268                Bronn       0.486840\n",
       "1397       Podrick Payne       0.486178\n",
       "1217           Missandei       0.485019\n",
       "491      Eddison Tollett       0.479667\n",
       "667            Grey Worm       0.407990\n",
       "618               Gendry       0.400375\n",
       "418       Davos Seaworth       0.381008\n",
       "1191          Melisandre       0.364344\n",
       "634                Gilly       0.347238\n",
       "834          Janos Slynt       0.327098\n",
       "1177          Meera Reed       0.291011\n",
       "368       Daario Naharis       0.277438\n",
       "788              Hot Pie       0.255090\n",
       "662       Gregor Clegane       0.208023\n",
       "465               Doreah       0.188931\n",
       "1451              Qyburn       0.185896\n",
       "111                Anguy       0.163052\n",
       "835         Jaqen H'ghar       0.152127\n",
       "1104         Mace Tyrell       0.149203\n",
       "519         Ellaria Sand       0.147382\n",
       "279        Brynden Tully       0.141423\n",
       "213     Beric Dondarrion       0.126911\n",
       "1985    Xaro Xhoan Daxos       0.106605\n",
       "1623      Salladhor Saan       0.080174\n",
       "948      Kevan Lannister       0.067759"
      ]
     },
     "execution_count": 8,
     "metadata": {},
     "output_type": "execute_result"
    }
   ],
   "source": [
    "s7_df = s7_df[s7_df.isdead_shw==0].sort_values('total_viewers', ascending=False).head(40)\n",
    "s7_df[['name_x', 'total_viewers']]"
   ]
  },
  {
   "cell_type": "code",
   "execution_count": 14,
   "metadata": {
    "ExecuteTime": {
     "end_time": "2018-05-20T21:19:17.908507Z",
     "start_time": "2018-05-20T21:19:17.895130Z"
    }
   },
   "outputs": [],
   "source": [
    "y = s7_df['isdead_shw']\n",
    "x = s7_df[['isdead_bk', 'ismale', 'book1', 'book2', 'book3', 'book4', 'book5',\n",
    "            #'isalivemother_bk', 'isalivefather_bk', 'isaliveheir_bk','isalivespouse_bk', 'ismarried_bk', \n",
    "            'isnoble_bk', 'booldeadrelations_bk', 'ispopular_bk', #'death_bk', 'apperance_chp',\n",
    "            #'hasmom_bk', 'hasdad_bk', 'hasheir_bk', 'hasspouse_bk', \n",
    "            'age_bk', 'numdeadrelations_bk', 'popularity_bk', \n",
    "            #'culture_bk', 'house_bk', 'name_y', 'isalive_shw', 'death_season', \n",
    "            'time_s1', 'time_s2', 'time_s3', 'time_s4', #'total_episode_num', \n",
    "            'season1', 'season2', 'season3', 'season4', 'age_shw', #'house_shw', 'match_name',\n",
    "            'sum_rating', 'total_viewers',\n",
    "            'culture_bk[T.Astap]', 'culture_bk[T.Braav]', 'culture_bk[T.Crann]', 'culture_bk[T.Dorni]', \n",
    "            'culture_bk[T.Dothr]', 'culture_bk[T.Free ]', 'culture_bk[T.Ghisc]', 'culture_bk[T.Ironb]', \n",
    "            'culture_bk[T.Ironm]', 'culture_bk[T.Lhaza]', 'culture_bk[T.Lysen]', 'culture_bk[T.Myris]', \n",
    "            'culture_bk[T.Naath]', 'culture_bk[T.None]', 'culture_bk[T.North]', 'culture_bk[T.Pento]', \n",
    "            'culture_bk[T.Qarth]', 'culture_bk[T.Reach]', 'culture_bk[T.River]', 'culture_bk[T.Storm]', \n",
    "            'culture_bk[T.The R]', 'culture_bk[T.Tyros]', 'culture_bk[T.Valem]', 'culture_bk[T.Valyr]', \n",
    "            'culture_bk[T.Weste]', 'culture_bk[T.Wildl]',\n",
    "            'house_bk[T.BROTHERHOOD WITHOUT BANNERS]', 'house_bk[T.HOUSE ARRYN]', 'house_bk[T.HOUSE BAELISH]', \n",
    "            'house_bk[T.HOUSE BARATHEON]', 'house_bk[T.HOUSE BOLTON]', 'house_bk[T.HOUSE CLEGANE]', \n",
    "            'house_bk[T.HOUSE FREY]', 'house_bk[T.HOUSE GREYJOY]', 'house_bk[T.HOUSE LANNISTER]', \n",
    "            'house_bk[T.HOUSE MARTELL]', 'house_bk[T.HOUSE STARK]', 'house_bk[T.HOUSE TARGARYEN]', \n",
    "            'house_bk[T.HOUSE TULLY]', 'house_bk[T.HOUSE TYRELL]', 'house_bk[T.NIGHTS WATCH]', 'house_bk[T.OTHER]', \n",
    "            'house_bk[T.UNKNOWN]', 'house_shw[T.House Bolton]', 'house_shw[T.House Greyjoy]', \n",
    "            'house_shw[T.House Lannister]', 'house_shw[T.House Stark]', 'house_shw[T.House Targaryen]', \n",
    "            'house_shw[T.None]', 'house_shw[T.Nights Watch]']]"
   ]
  },
  {
   "cell_type": "markdown",
   "metadata": {
    "ExecuteTime": {
     "end_time": "2018-05-14T21:43:16.839732Z",
     "start_time": "2018-05-14T21:43:16.836322Z"
    }
   },
   "source": [
    "### Predict on Best Random Forest Model (LEFT JOIN)"
   ]
  },
  {
   "cell_type": "code",
   "execution_count": 15,
   "metadata": {
    "ExecuteTime": {
     "end_time": "2018-05-20T21:19:20.246499Z",
     "start_time": "2018-05-20T21:19:20.232872Z"
    }
   },
   "outputs": [],
   "source": [
    "with open(\"models/forest_model_otro.pkl\",\"rb\") as f:\n",
    "    best_forest_model = pickle.load(f)"
   ]
  },
  {
   "cell_type": "code",
   "execution_count": 16,
   "metadata": {
    "ExecuteTime": {
     "end_time": "2018-05-20T21:19:20.952808Z",
     "start_time": "2018-05-20T21:19:20.931216Z"
    }
   },
   "outputs": [
    {
     "data": {
      "text/plain": [
       "[('Doreah', 0.9307142798270177),\n",
       " ('Gregor Clegane', 0.7132825132427524),\n",
       " ('Xaro Xhoan Daxos', 0.7031859434033826),\n",
       " ('Salladhor Saan', 0.6958224756663516),\n",
       " ('Beric Dondarrion', 0.6844272692301204),\n",
       " ('Janos Slynt', 0.6542788550651811),\n",
       " (\"Jaqen H'ghar\", 0.6404859168003807),\n",
       " ('Kevan Lannister', 0.6308247707328132),\n",
       " ('Qyburn', 0.6131866669010132),\n",
       " ('Brynden Tully', 0.5661010588166888),\n",
       " ('Daario Naharis', 0.554447126329423),\n",
       " ('Hot Pie', 0.537308258996286),\n",
       " ('Bronn', 0.536790051205932),\n",
       " ('Ellaria Sand', 0.5057767719924019),\n",
       " ('Eddison Tollett', 0.4825992694761286),\n",
       " ('Gendry', 0.47522546563932067),\n",
       " ('Meera Reed', 0.46373421725476505),\n",
       " ('Mace Tyrell', 0.4523108345666944),\n",
       " ('Anguy', 0.44450107853613935),\n",
       " ('Gilly', 0.4311528557366114),\n",
       " ('Grey Worm', 0.4151568262965644),\n",
       " ('Melisandre', 0.41046434054809616),\n",
       " ('Grenn', 0.40802736540301654),\n",
       " ('Podrick Payne', 0.36367664419175444),\n",
       " ('Missandei', 0.35393684874325365),\n",
       " ('Brandon Stark', 0.2954991209301554),\n",
       " ('Sandor Clegane', 0.2671789767694316),\n",
       " ('Davos Seaworth', 0.2467043901792706),\n",
       " ('Brienne of Tarth', 0.2355811454036026),\n",
       " ('Varys', 0.1892455521792307),\n",
       " ('Samwell Tarly', 0.1734788612187413),\n",
       " ('Theon Greyjoy', 0.16940748809733436),\n",
       " ('Jon Snow', 0.1552671073073372),\n",
       " ('Arya Stark', 0.1552671073073372),\n",
       " ('Sansa Stark', 0.1552671073073372),\n",
       " ('Jaime Lannister', 0.12488979596300936),\n",
       " ('Jorah Mormont', 0.11914905522226862),\n",
       " ('Cersei Lannister', 0.10649899136530822),\n",
       " ('Tyrion Lannister', 0.10649899136530822),\n",
       " ('Daenerys Targaryen', 0.10649899136530822)]"
      ]
     },
     "execution_count": 16,
     "metadata": {},
     "output_type": "execute_result"
    }
   ],
   "source": [
    "thld = 0.5\n",
    "sorted(zip(s7_df.name_x, [i[1] for i in best_forest_model.predict_proba(x)]), key=lambda tup: tup[1], reverse=True)"
   ]
  },
  {
   "cell_type": "markdown",
   "metadata": {},
   "source": [
    "### Predict on best kNN Model (LEFT JOIN)"
   ]
  },
  {
   "cell_type": "code",
   "execution_count": 17,
   "metadata": {
    "ExecuteTime": {
     "end_time": "2018-05-20T21:19:57.837538Z",
     "start_time": "2018-05-20T21:19:57.825232Z"
    }
   },
   "outputs": [],
   "source": [
    "with open(\"../models/best_knn_6.pkl\",\"rb\") as f:\n",
    "    best_knn_model = pickle.load(f)"
   ]
  },
  {
   "cell_type": "code",
   "execution_count": 18,
   "metadata": {
    "ExecuteTime": {
     "end_time": "2018-05-20T21:19:58.776333Z",
     "start_time": "2018-05-20T21:19:58.762498Z"
    }
   },
   "outputs": [
    {
     "data": {
      "text/plain": [
       "[('Doreah', 0.9307142798270177),\n",
       " ('Gregor Clegane', 0.7132825132427524),\n",
       " ('Xaro Xhoan Daxos', 0.7031859434033826),\n",
       " ('Salladhor Saan', 0.6958224756663516),\n",
       " ('Beric Dondarrion', 0.6844272692301204),\n",
       " ('Janos Slynt', 0.6542788550651811),\n",
       " (\"Jaqen H'ghar\", 0.6404859168003807),\n",
       " ('Kevan Lannister', 0.6308247707328132),\n",
       " ('Qyburn', 0.6131866669010132),\n",
       " ('Brynden Tully', 0.5661010588166888),\n",
       " ('Daario Naharis', 0.554447126329423),\n",
       " ('Hot Pie', 0.537308258996286),\n",
       " ('Bronn', 0.536790051205932),\n",
       " ('Ellaria Sand', 0.5057767719924019),\n",
       " ('Eddison Tollett', 0.4825992694761286),\n",
       " ('Gendry', 0.47522546563932067),\n",
       " ('Meera Reed', 0.46373421725476505),\n",
       " ('Mace Tyrell', 0.4523108345666944),\n",
       " ('Anguy', 0.44450107853613935),\n",
       " ('Gilly', 0.4311528557366114),\n",
       " ('Grey Worm', 0.4151568262965644),\n",
       " ('Melisandre', 0.41046434054809616),\n",
       " ('Grenn', 0.40802736540301654),\n",
       " ('Podrick Payne', 0.36367664419175444),\n",
       " ('Missandei', 0.35393684874325365),\n",
       " ('Brandon Stark', 0.2954991209301554),\n",
       " ('Sandor Clegane', 0.2671789767694316),\n",
       " ('Davos Seaworth', 0.2467043901792706),\n",
       " ('Brienne of Tarth', 0.2355811454036026),\n",
       " ('Varys', 0.1892455521792307),\n",
       " ('Samwell Tarly', 0.1734788612187413),\n",
       " ('Theon Greyjoy', 0.16940748809733436),\n",
       " ('Jon Snow', 0.1552671073073372),\n",
       " ('Arya Stark', 0.1552671073073372),\n",
       " ('Sansa Stark', 0.1552671073073372),\n",
       " ('Jaime Lannister', 0.12488979596300936),\n",
       " ('Jorah Mormont', 0.11914905522226862),\n",
       " ('Cersei Lannister', 0.10649899136530822),\n",
       " ('Tyrion Lannister', 0.10649899136530822),\n",
       " ('Daenerys Targaryen', 0.10649899136530822)]"
      ]
     },
     "execution_count": 18,
     "metadata": {},
     "output_type": "execute_result"
    }
   ],
   "source": [
    "sorted(zip(s7_df.name_x, [i[1] for i in best_knn_model.predict_proba(x)]), key=lambda tup: tup[1], reverse=True)"
   ]
  },
  {
   "cell_type": "markdown",
   "metadata": {},
   "source": [
    "### Predict on Best SVM + RBF Model"
   ]
  },
  {
   "cell_type": "code",
   "execution_count": 19,
   "metadata": {
    "ExecuteTime": {
     "end_time": "2018-05-20T21:20:09.664554Z",
     "start_time": "2018-05-20T21:20:09.584126Z"
    }
   },
   "outputs": [],
   "source": [
    "with open(\"models/best_svm_rbf.pkl\",\"rb\") as f:\n",
    "    best_svm_model = pickle.load(f)"
   ]
  },
  {
   "cell_type": "code",
   "execution_count": 20,
   "metadata": {
    "ExecuteTime": {
     "end_time": "2018-05-20T21:20:11.582155Z",
     "start_time": "2018-05-20T21:20:11.571799Z"
    }
   },
   "outputs": [
    {
     "data": {
      "text/plain": [
       "[('Beric Dondarrion', 0.9224036196052893),\n",
       " (\"Jaqen H'ghar\", 0.8975912630060258),\n",
       " ('Brynden Tully', 0.8869960012526987),\n",
       " ('Salladhor Saan', 0.6857969481221428),\n",
       " ('Doreah', 0.5518879074497458),\n",
       " ('Gregor Clegane', 0.5361131415973971),\n",
       " ('Grey Worm', 0.5),\n",
       " ('Eddison Tollett', 0.39381473109823073),\n",
       " ('Xaro Xhoan Daxos', 0.3788251514049379),\n",
       " ('Daenerys Targaryen', 0.36136985190922966),\n",
       " ('Jon Snow', 0.36136985190922966),\n",
       " ('Arya Stark', 0.36136985190922966),\n",
       " ('Jaime Lannister', 0.36136985190922966),\n",
       " ('Samwell Tarly', 0.36136985190922966),\n",
       " ('Sandor Clegane', 0.36136985190922927),\n",
       " ('Sansa Stark', 0.3613698519092291),\n",
       " ('Ellaria Sand', 0.012622793756609336),\n",
       " ('Theon Greyjoy', 0.01073925197143404),\n",
       " ('Anguy', 0.01073719222535601),\n",
       " ('Cersei Lannister', 0.010736616397361273),\n",
       " ('Gilly', 0.010733573206865188),\n",
       " ('Brienne of Tarth', 0.01073100174356196),\n",
       " ('Varys', 0.01073066872473243),\n",
       " ('Missandei', 0.010730064292760532),\n",
       " ('Davos Seaworth', 0.010729071760654569),\n",
       " ('Bronn', 0.010727987390761399),\n",
       " ('Qyburn', 0.010727965248968262),\n",
       " ('Gendry', 0.010726050573857622),\n",
       " ('Brandon Stark', 0.010725171437654238),\n",
       " ('Jorah Mormont', 0.010724207533386466),\n",
       " ('Hot Pie', 0.010719619144481095),\n",
       " ('Kevan Lannister', 0.01071940755424303),\n",
       " ('Meera Reed', 0.01071837820312081),\n",
       " ('Daario Naharis', 0.010717286909136021),\n",
       " ('Tyrion Lannister', 0.010716496171403021),\n",
       " ('Grenn', 0.010713286074289797),\n",
       " ('Melisandre', 0.010713211923275017),\n",
       " ('Janos Slynt', 0.010712256745138633),\n",
       " ('Podrick Payne', 0.010707348767963391),\n",
       " ('Mace Tyrell', 0.006091551906179699)]"
      ]
     },
     "execution_count": 20,
     "metadata": {},
     "output_type": "execute_result"
    }
   ],
   "source": [
    "thld = 0.35\n",
    "sorted(zip(s7_df.name_x, [i[1] for i in best_svm_model.predict_proba(x)]), key=lambda tup: tup[1], reverse=True)"
   ]
  },
  {
   "cell_type": "markdown",
   "metadata": {},
   "source": [
    "### Predict on Best Random Forest (INNER JOIN)"
   ]
  },
  {
   "cell_type": "code",
   "execution_count": 23,
   "metadata": {
    "ExecuteTime": {
     "end_time": "2018-05-20T21:21:31.760238Z",
     "start_time": "2018-05-20T21:21:31.747159Z"
    }
   },
   "outputs": [],
   "source": [
    "x = s7_df[['isdead_bk', 'ismale', 'book1', 'book2', 'book3', 'book4', 'book5',\n",
    "            #'isalivemother_bk', 'isalivefather_bk', 'isaliveheir_bk','isalivespouse_bk', 'ismarried_bk', \n",
    "            'isnoble_bk', 'booldeadrelations_bk', 'ispopular_bk', #'death_bk', 'apperance_chp',\n",
    "            #'hasmom_bk', 'hasdad_bk', 'hasheir_bk', 'hasspouse_bk', \n",
    "            'age_bk', 'numdeadrelations_bk', 'popularity_bk', \n",
    "            #'culture_bk', 'house_bk', 'name_y', 'isalive_shw', 'death_season', \n",
    "            'time_s1', 'time_s2', 'time_s3', 'time_s4', #'total_episode_num', \n",
    "            'season1', 'season2', 'season3', 'season4', 'age_shw', #'house_shw', 'match_name',\n",
    "            #'sum_rating', 'total_viewers',\n",
    "            'culture_bk[T.Astap]', 'culture_bk[T.Braav]', 'culture_bk[T.Crann]', 'culture_bk[T.Dorni]', \n",
    "            'culture_bk[T.Dothr]', 'culture_bk[T.Free ]', 'culture_bk[T.Ghisc]', 'culture_bk[T.Ironb]', \n",
    "            'culture_bk[T.Ironm]', 'culture_bk[T.Lhaza]', 'culture_bk[T.Lysen]', 'culture_bk[T.Myris]', \n",
    "            'culture_bk[T.Naath]', 'culture_bk[T.None]', 'culture_bk[T.North]', 'culture_bk[T.Pento]', \n",
    "            'culture_bk[T.Qarth]', 'culture_bk[T.Reach]', 'culture_bk[T.River]', 'culture_bk[T.Storm]', \n",
    "            'culture_bk[T.The R]', 'culture_bk[T.Tyros]', 'culture_bk[T.Valem]', 'culture_bk[T.Valyr]', \n",
    "            'culture_bk[T.Weste]', 'culture_bk[T.Wildl]',\n",
    "            'house_bk[T.BROTHERHOOD WITHOUT BANNERS]', 'house_bk[T.HOUSE ARRYN]', 'house_bk[T.HOUSE BAELISH]', \n",
    "            'house_bk[T.HOUSE BARATHEON]', 'house_bk[T.HOUSE BOLTON]', 'house_bk[T.HOUSE CLEGANE]', \n",
    "            'house_bk[T.HOUSE FREY]', 'house_bk[T.HOUSE GREYJOY]', 'house_bk[T.HOUSE LANNISTER]', \n",
    "            'house_bk[T.HOUSE MARTELL]', 'house_bk[T.HOUSE STARK]', 'house_bk[T.HOUSE TARGARYEN]', \n",
    "            'house_bk[T.HOUSE TULLY]', 'house_bk[T.HOUSE TYRELL]', 'house_bk[T.NIGHTS WATCH]', 'house_bk[T.OTHER]', \n",
    "            'house_bk[T.UNKNOWN]', 'house_shw[T.House Bolton]', 'house_shw[T.House Greyjoy]', \n",
    "            'house_shw[T.House Lannister]', 'house_shw[T.House Stark]', 'house_shw[T.House Targaryen]', \n",
    "            'house_shw[T.None]', 'house_shw[T.Nights Watch]']]"
   ]
  },
  {
   "cell_type": "code",
   "execution_count": 24,
   "metadata": {
    "ExecuteTime": {
     "end_time": "2018-05-20T21:21:32.941381Z",
     "start_time": "2018-05-20T21:21:32.930708Z"
    }
   },
   "outputs": [],
   "source": [
    "with open(\"models/forest_inner.pkl\",\"rb\") as f:\n",
    "    forest_model = pickle.load(f)"
   ]
  },
  {
   "cell_type": "code",
   "execution_count": 25,
   "metadata": {
    "ExecuteTime": {
     "end_time": "2018-05-20T21:21:33.921904Z",
     "start_time": "2018-05-20T21:21:33.908698Z"
    }
   },
   "outputs": [
    {
     "data": {
      "text/plain": [
       "[('Podrick Payne', 0.6333333333333333),\n",
       " ('Kevan Lannister', 0.6),\n",
       " ('Hot Pie', 0.5333333333333333),\n",
       " ('Xaro Xhoan Daxos', 0.5),\n",
       " ('Gregor Clegane', 0.4666666666666667),\n",
       " ('Grenn', 0.4),\n",
       " ('Brynden Tully', 0.4),\n",
       " ('Grey Worm', 0.36666666666666664),\n",
       " ('Anguy', 0.3333333333333333),\n",
       " (\"Jaqen H'ghar\", 0.3333333333333333),\n",
       " ('Samwell Tarly', 0.3),\n",
       " ('Doreah', 0.3),\n",
       " ('Salladhor Saan', 0.26666666666666666),\n",
       " ('Brandon Stark', 0.23333333333333334),\n",
       " ('Eddison Tollett', 0.23333333333333334),\n",
       " ('Gendry', 0.23333333333333334),\n",
       " ('Daario Naharis', 0.23333333333333334),\n",
       " ('Qyburn', 0.23333333333333334),\n",
       " ('Ellaria Sand', 0.23333333333333334),\n",
       " ('Davos Seaworth', 0.2),\n",
       " ('Beric Dondarrion', 0.2),\n",
       " ('Brienne of Tarth', 0.16666666666666666),\n",
       " ('Varys', 0.13333333333333333),\n",
       " ('Missandei', 0.13333333333333333),\n",
       " ('Janos Slynt', 0.13333333333333333),\n",
       " ('Mace Tyrell', 0.13333333333333333),\n",
       " ('Bronn', 0.1),\n",
       " ('Meera Reed', 0.1),\n",
       " ('Jon Snow', 0.06666666666666667),\n",
       " ('Arya Stark', 0.06666666666666667),\n",
       " ('Jorah Mormont', 0.06666666666666667),\n",
       " ('Sansa Stark', 0.06666666666666667),\n",
       " ('Gilly', 0.06666666666666667),\n",
       " ('Cersei Lannister', 0.03333333333333333),\n",
       " ('Daenerys Targaryen', 0.03333333333333333),\n",
       " ('Theon Greyjoy', 0.03333333333333333),\n",
       " ('Melisandre', 0.03333333333333333),\n",
       " ('Tyrion Lannister', 0.0),\n",
       " ('Jaime Lannister', 0.0),\n",
       " ('Sandor Clegane', 0.0)]"
      ]
     },
     "execution_count": 25,
     "metadata": {},
     "output_type": "execute_result"
    }
   ],
   "source": [
    "thld = 0.5\n",
    "sorted(zip(s7_df.name_x, [i[1] for i in forest_model.predict_proba(x)]), key=lambda tup: tup[1], reverse=True)"
   ]
  },
  {
   "cell_type": "markdown",
   "metadata": {},
   "source": [
    "### Predict on Best Logistic Regression - Linear (INNER JOIN)"
   ]
  },
  {
   "cell_type": "code",
   "execution_count": 26,
   "metadata": {
    "ExecuteTime": {
     "end_time": "2018-05-20T21:21:58.926795Z",
     "start_time": "2018-05-20T21:21:58.917362Z"
    }
   },
   "outputs": [],
   "source": [
    "with open(\"models/inner_reglog.pkl\",\"rb\") as f:\n",
    "    log_model = pickle.load(f)"
   ]
  },
  {
   "cell_type": "code",
   "execution_count": 27,
   "metadata": {
    "ExecuteTime": {
     "end_time": "2018-05-20T21:21:59.779544Z",
     "start_time": "2018-05-20T21:21:59.650728Z"
    }
   },
   "outputs": [
    {
     "data": {
      "text/plain": [
       "[(\"Jaqen H'ghar\", 0.9464256926454796),\n",
       " ('Kevan Lannister', 0.9002832310342006),\n",
       " ('Brynden Tully', 0.8827359022032175),\n",
       " ('Grenn', 0.7230430794661591),\n",
       " ('Xaro Xhoan Daxos', 0.6557589750801173),\n",
       " ('Hot Pie', 0.6366550182609396),\n",
       " ('Gregor Clegane', 0.5046802151922579),\n",
       " ('Bronn', 0.4601560836183462),\n",
       " ('Mace Tyrell', 0.4598133564232296),\n",
       " ('Janos Slynt', 0.45961826044896803),\n",
       " ('Salladhor Saan', 0.4552086522817777),\n",
       " ('Podrick Payne', 0.4429016984115655),\n",
       " ('Anguy', 0.38269300779858884),\n",
       " ('Meera Reed', 0.38244185704055644),\n",
       " ('Qyburn', 0.37673240010877473),\n",
       " ('Beric Dondarrion', 0.3699689767941244),\n",
       " ('Samwell Tarly', 0.35129621244930953),\n",
       " ('Doreah', 0.341907592619362),\n",
       " ('Eddison Tollett', 0.33309225107134954),\n",
       " ('Ellaria Sand', 0.3269994849268091),\n",
       " ('Daario Naharis', 0.26381583235566497),\n",
       " ('Brandon Stark', 0.2291459182507778),\n",
       " ('Davos Seaworth', 0.22234717852944558),\n",
       " ('Brienne of Tarth', 0.1989451533535889),\n",
       " ('Grey Worm', 0.18066496663655432),\n",
       " ('Gilly', 0.15614303849012606),\n",
       " ('Melisandre', 0.14154029271533328),\n",
       " ('Cersei Lannister', 0.13869614091778448),\n",
       " ('Jaime Lannister', 0.13751060454837583),\n",
       " ('Varys', 0.1350249738093079),\n",
       " ('Jorah Mormont', 0.06669570502706623),\n",
       " ('Gendry', 0.05810166001148259),\n",
       " ('Sandor Clegane', 0.04838251807801894),\n",
       " ('Daenerys Targaryen', 0.04767230094590902),\n",
       " ('Arya Stark', 0.04111257483781831),\n",
       " ('Sansa Stark', 0.0266929842102268),\n",
       " ('Missandei', 0.020619729895100965),\n",
       " ('Theon Greyjoy', 0.01821495676866111),\n",
       " ('Jon Snow', 0.004004573755832176),\n",
       " ('Tyrion Lannister', 0.0017428047737815364)]"
      ]
     },
     "execution_count": 27,
     "metadata": {},
     "output_type": "execute_result"
    }
   ],
   "source": [
    "thld = 0.5\n",
    "sorted(zip(s7_df.name_x, [i[1] for i in log_model.predict_proba(x)]), key=lambda tup: tup[1], reverse=True)"
   ]
  },
  {
   "cell_type": "markdown",
   "metadata": {},
   "source": [
    "### Predict on Best Logistic Regression - Balanced (INNER JOIN)"
   ]
  },
  {
   "cell_type": "code",
   "execution_count": 28,
   "metadata": {
    "ExecuteTime": {
     "end_time": "2018-05-20T21:22:48.662037Z",
     "start_time": "2018-05-20T21:22:48.642861Z"
    }
   },
   "outputs": [],
   "source": [
    "with open(\"models/inner_balanced.pkl\",\"rb\") as f:\n",
    "    bal_model = pickle.load(f)"
   ]
  },
  {
   "cell_type": "code",
   "execution_count": 29,
   "metadata": {
    "ExecuteTime": {
     "end_time": "2018-05-20T21:22:49.308245Z",
     "start_time": "2018-05-20T21:22:49.297989Z"
    }
   },
   "outputs": [
    {
     "data": {
      "text/plain": [
       "[('Brynden Tully', 0.9999989006495946),\n",
       " ('Daenerys Targaryen', 0.9956058732513609),\n",
       " ('Grenn', 0.9828181409871046),\n",
       " ('Brienne of Tarth', 0.9817101901083866),\n",
       " ('Xaro Xhoan Daxos', 0.8667477430266304),\n",
       " ('Kevan Lannister', 0.7364651054443925),\n",
       " (\"Jaqen H'ghar\", 0.573641900045019),\n",
       " ('Bronn', 0.4050781448486058),\n",
       " ('Samwell Tarly', 0.32739600886175274),\n",
       " ('Meera Reed', 0.29178335673496325),\n",
       " ('Podrick Payne', 0.24416745226096942),\n",
       " ('Daario Naharis', 0.19972261134452957),\n",
       " ('Qyburn', 0.13681336258033722),\n",
       " ('Beric Dondarrion', 0.09926032023407953),\n",
       " ('Mace Tyrell', 0.0835503734754838),\n",
       " ('Janos Slynt', 0.08260533791885877),\n",
       " ('Salladhor Saan', 0.08048585176869252),\n",
       " ('Gregor Clegane', 0.06821162320703167),\n",
       " ('Eddison Tollett', 0.0645269884767618),\n",
       " ('Jaime Lannister', 0.06338350720715684),\n",
       " ('Brandon Stark', 0.0627052815931876),\n",
       " ('Melisandre', 0.05917560951588774),\n",
       " ('Ellaria Sand', 0.05903397826116512),\n",
       " ('Doreah', 0.056288209036875335),\n",
       " ('Anguy', 0.03539779012542253),\n",
       " ('Cersei Lannister', 0.03189224872953656),\n",
       " ('Gilly', 0.02457884978439964),\n",
       " ('Hot Pie', 0.012383571749153562),\n",
       " ('Grey Worm', 0.01063550182949336),\n",
       " ('Varys', 0.009972533919120428),\n",
       " ('Davos Seaworth', 0.004506983803886664),\n",
       " ('Arya Stark', 0.0020165297248791146),\n",
       " ('Missandei', 0.00016003712724880703),\n",
       " ('Jorah Mormont', 6.799358881354245e-05),\n",
       " ('Tyrion Lannister', 5.014288204887558e-05),\n",
       " ('Gendry', 2.234440780023914e-05),\n",
       " ('Theon Greyjoy', 1.8466180941685337e-05),\n",
       " ('Sandor Clegane', 4.717512701389751e-06),\n",
       " ('Sansa Stark', 4.175058765413678e-06),\n",
       " ('Jon Snow', 3.1701711812853004e-09)]"
      ]
     },
     "execution_count": 29,
     "metadata": {},
     "output_type": "execute_result"
    }
   ],
   "source": [
    "thld = 0.5\n",
    "sorted(zip(s7_df.name_x, [i[1] for i in bal_model.predict_proba(x)]), key=lambda tup: tup[1], reverse=True)"
   ]
  },
  {
   "cell_type": "markdown",
   "metadata": {},
   "source": [
    "### Predict on Best kNN Model - (INNER JOIN)"
   ]
  },
  {
   "cell_type": "code",
   "execution_count": 30,
   "metadata": {
    "ExecuteTime": {
     "end_time": "2018-05-20T21:23:11.418506Z",
     "start_time": "2018-05-20T21:23:11.407329Z"
    }
   },
   "outputs": [],
   "source": [
    "with open(\"models/inner_knn_13.pkl\",\"rb\") as f:\n",
    "    knn13_model = pickle.load(f)"
   ]
  },
  {
   "cell_type": "code",
   "execution_count": 31,
   "metadata": {
    "ExecuteTime": {
     "end_time": "2018-05-20T21:23:12.198866Z",
     "start_time": "2018-05-20T21:23:12.185679Z"
    }
   },
   "outputs": [
    {
     "data": {
      "text/plain": [
       "[('Podrick Payne', 0.6333333333333333),\n",
       " ('Kevan Lannister', 0.6),\n",
       " ('Hot Pie', 0.5333333333333333),\n",
       " ('Xaro Xhoan Daxos', 0.5),\n",
       " ('Gregor Clegane', 0.4666666666666667),\n",
       " ('Grenn', 0.4),\n",
       " ('Brynden Tully', 0.4),\n",
       " ('Grey Worm', 0.36666666666666664),\n",
       " ('Anguy', 0.3333333333333333),\n",
       " (\"Jaqen H'ghar\", 0.3333333333333333),\n",
       " ('Samwell Tarly', 0.3),\n",
       " ('Doreah', 0.3),\n",
       " ('Salladhor Saan', 0.26666666666666666),\n",
       " ('Brandon Stark', 0.23333333333333334),\n",
       " ('Eddison Tollett', 0.23333333333333334),\n",
       " ('Gendry', 0.23333333333333334),\n",
       " ('Daario Naharis', 0.23333333333333334),\n",
       " ('Qyburn', 0.23333333333333334),\n",
       " ('Ellaria Sand', 0.23333333333333334),\n",
       " ('Davos Seaworth', 0.2),\n",
       " ('Beric Dondarrion', 0.2),\n",
       " ('Brienne of Tarth', 0.16666666666666666),\n",
       " ('Varys', 0.13333333333333333),\n",
       " ('Missandei', 0.13333333333333333),\n",
       " ('Janos Slynt', 0.13333333333333333),\n",
       " ('Mace Tyrell', 0.13333333333333333),\n",
       " ('Bronn', 0.1),\n",
       " ('Meera Reed', 0.1),\n",
       " ('Jon Snow', 0.06666666666666667),\n",
       " ('Arya Stark', 0.06666666666666667),\n",
       " ('Jorah Mormont', 0.06666666666666667),\n",
       " ('Sansa Stark', 0.06666666666666667),\n",
       " ('Gilly', 0.06666666666666667),\n",
       " ('Cersei Lannister', 0.03333333333333333),\n",
       " ('Daenerys Targaryen', 0.03333333333333333),\n",
       " ('Theon Greyjoy', 0.03333333333333333),\n",
       " ('Melisandre', 0.03333333333333333),\n",
       " ('Tyrion Lannister', 0.0),\n",
       " ('Jaime Lannister', 0.0),\n",
       " ('Sandor Clegane', 0.0)]"
      ]
     },
     "execution_count": 31,
     "metadata": {},
     "output_type": "execute_result"
    }
   ],
   "source": [
    "thld = 0.5\n",
    "sorted(zip(s7_df.name_x, [i[1] for i in forest_model.predict_proba(x)]), key=lambda tup: tup[1], reverse=True)"
   ]
  },
  {
   "cell_type": "markdown",
   "metadata": {},
   "source": [
    "> Will work with predictions from Best Random Forest Model using LEFT JOIN data.\n",
    "> To import it from other applications, including the [Flask App](05_GOT_app) load it from file [../models/forest_model_otro.pkl](../models/forest_model_otro.pkl) using **pickle**\n",
    "\n",
    "> Run app via command prompt:\n",
    "```bash\n",
    "python3 05_GOT_app.py\n",
    "```\n",
    "> and go to http://127.0.0.1:5000/predict"
   ]
  },
  {
   "cell_type": "code",
   "execution_count": null,
   "metadata": {},
   "outputs": [],
   "source": []
  }
 ],
 "metadata": {
  "kernelspec": {
   "display_name": "Python 3",
   "language": "python",
   "name": "python3"
  },
  "language_info": {
   "codemirror_mode": {
    "name": "ipython",
    "version": 3
   },
   "file_extension": ".py",
   "mimetype": "text/x-python",
   "name": "python",
   "nbconvert_exporter": "python",
   "pygments_lexer": "ipython3",
   "version": "3.6.4"
  }
 },
 "nbformat": 4,
 "nbformat_minor": 2
}
